{
 "cells": [
  {
   "cell_type": "code",
   "execution_count": 4,
   "id": "698974b9",
   "metadata": {},
   "outputs": [
    {
     "name": "stdout",
     "output_type": "stream",
     "text": [
      "Ananay\n",
      "10000\n"
     ]
    }
   ],
   "source": [
    "class Employee:\n",
    "    pass\n",
    "        \n",
    "emp1 = Employee()\n",
    "emp1.first = 'Ananay'\n",
    "emp1.pay = 10000\n",
    "print(emp1.first)\n",
    "print(emp1.pay)"
   ]
  },
  {
   "cell_type": "code",
   "execution_count": 9,
   "id": "d72052e1",
   "metadata": {},
   "outputs": [
    {
     "name": "stdout",
     "output_type": "stream",
     "text": [
      "ananay.srivastava@gmail.com\n",
      "shivang.chaturvedi@gmail.com\n"
     ]
    }
   ],
   "source": [
    "class Employee:\n",
    "    def __init__(self,first,last,pay):  # this function is like a constructor\n",
    "        self.first = first\n",
    "        self.last = last\n",
    "        self.pay = pay\n",
    "        self.email = first.lower()+'.'+last.lower()+'@gmail.com'\n",
    "        \n",
    "emp1 = Employee('Ananay','Srivastava',10000)\n",
    "emp2 = Employee('Shivang','Chaturvedi',15000)\n",
    "\n",
    "print(emp1.email)\n",
    "print(emp2.email)"
   ]
  },
  {
   "cell_type": "code",
   "execution_count": 10,
   "id": "f1d2d370",
   "metadata": {},
   "outputs": [
    {
     "name": "stdout",
     "output_type": "stream",
     "text": [
      "This employee's full name is Ananay Srivastava\n"
     ]
    }
   ],
   "source": [
    "class Employee:\n",
    "    def __init__(self,first,last,pay):  # this function is like a constructor\n",
    "        self.first = first\n",
    "        self.last = last\n",
    "        self.pay = pay\n",
    "        self.email = first.lower()+'.'+last.lower()+'@gmail.com'\n",
    "        \n",
    "    def fullname(self):\n",
    "        print(f\"This employee's full name is {self.first} {self.last}\")\n",
    "        \n",
    "emp1 = Employee('Ananay','Srivastava',10000)\n",
    "emp2 = Employee('Shivang','Chaturvedi',15000)\n",
    "\n",
    "emp1.fullname()"
   ]
  },
  {
   "cell_type": "code",
   "execution_count": 11,
   "id": "52669632",
   "metadata": {},
   "outputs": [
    {
     "name": "stdout",
     "output_type": "stream",
     "text": [
      "This employee's full name is Ananay Srivastava\n"
     ]
    }
   ],
   "source": [
    "Employee.fullname(emp1)"
   ]
  },
  {
   "cell_type": "code",
   "execution_count": null,
   "id": "920e3593",
   "metadata": {},
   "outputs": [],
   "source": []
  },
  {
   "cell_type": "code",
   "execution_count": null,
   "id": "1d226e87",
   "metadata": {},
   "outputs": [],
   "source": []
  },
  {
   "cell_type": "code",
   "execution_count": 13,
   "id": "94218afd",
   "metadata": {},
   "outputs": [
    {
     "name": "stdout",
     "output_type": "stream",
     "text": [
      "10000\n"
     ]
    },
    {
     "ename": "NameError",
     "evalue": "name 'raise_amount' is not defined",
     "output_type": "error",
     "traceback": [
      "\u001b[1;31m---------------------------------------------------------------------------\u001b[0m",
      "\u001b[1;31mNameError\u001b[0m                                 Traceback (most recent call last)",
      "\u001b[1;32m~\\AppData\\Local\\Temp/ipykernel_7160/4057603400.py\u001b[0m in \u001b[0;36m<module>\u001b[1;34m\u001b[0m\n\u001b[0;32m     18\u001b[0m \u001b[1;33m\u001b[0m\u001b[0m\n\u001b[0;32m     19\u001b[0m \u001b[0mprint\u001b[0m\u001b[1;33m(\u001b[0m\u001b[0memp1\u001b[0m\u001b[1;33m.\u001b[0m\u001b[0mpay\u001b[0m\u001b[1;33m)\u001b[0m\u001b[1;33m\u001b[0m\u001b[1;33m\u001b[0m\u001b[0m\n\u001b[1;32m---> 20\u001b[1;33m \u001b[0memp1\u001b[0m\u001b[1;33m.\u001b[0m\u001b[0mapply_raise\u001b[0m\u001b[1;33m(\u001b[0m\u001b[1;33m)\u001b[0m\u001b[1;33m\u001b[0m\u001b[1;33m\u001b[0m\u001b[0m\n\u001b[0m\u001b[0;32m     21\u001b[0m \u001b[0mprint\u001b[0m\u001b[1;33m(\u001b[0m\u001b[0memp1\u001b[0m\u001b[1;33m.\u001b[0m\u001b[0mpay\u001b[0m\u001b[1;33m)\u001b[0m\u001b[1;33m\u001b[0m\u001b[1;33m\u001b[0m\u001b[0m\n",
      "\u001b[1;32m~\\AppData\\Local\\Temp/ipykernel_7160/4057603400.py\u001b[0m in \u001b[0;36mapply_raise\u001b[1;34m(self)\u001b[0m\n\u001b[0;32m     12\u001b[0m \u001b[1;33m\u001b[0m\u001b[0m\n\u001b[0;32m     13\u001b[0m     \u001b[1;32mdef\u001b[0m \u001b[0mapply_raise\u001b[0m\u001b[1;33m(\u001b[0m\u001b[0mself\u001b[0m\u001b[1;33m)\u001b[0m\u001b[1;33m:\u001b[0m\u001b[1;33m\u001b[0m\u001b[1;33m\u001b[0m\u001b[0m\n\u001b[1;32m---> 14\u001b[1;33m         \u001b[0mself\u001b[0m\u001b[1;33m.\u001b[0m\u001b[0mpay\u001b[0m \u001b[1;33m=\u001b[0m \u001b[0mint\u001b[0m\u001b[1;33m(\u001b[0m\u001b[0mself\u001b[0m\u001b[1;33m.\u001b[0m\u001b[0mpay\u001b[0m \u001b[1;33m*\u001b[0m \u001b[0mraise_amount\u001b[0m\u001b[1;33m)\u001b[0m\u001b[1;33m\u001b[0m\u001b[1;33m\u001b[0m\u001b[0m\n\u001b[0m\u001b[0;32m     15\u001b[0m \u001b[1;33m\u001b[0m\u001b[0m\n\u001b[0;32m     16\u001b[0m \u001b[0memp1\u001b[0m \u001b[1;33m=\u001b[0m \u001b[0mEmployee\u001b[0m\u001b[1;33m(\u001b[0m\u001b[1;34m'Ananay'\u001b[0m\u001b[1;33m,\u001b[0m\u001b[1;34m'Srivastava'\u001b[0m\u001b[1;33m,\u001b[0m\u001b[1;36m10000\u001b[0m\u001b[1;33m)\u001b[0m\u001b[1;33m\u001b[0m\u001b[1;33m\u001b[0m\u001b[0m\n",
      "\u001b[1;31mNameError\u001b[0m: name 'raise_amount' is not defined"
     ]
    }
   ],
   "source": [
    "class Employee:\n",
    "    raise_amount = 1.04\n",
    "    \n",
    "    def __init__(self,first,last,pay):  # this function is like a constructor\n",
    "        self.first = first\n",
    "        self.last = last\n",
    "        self.pay = pay\n",
    "        self.email = first.lower()+'.'+last.lower()+'@gmail.com'\n",
    "        \n",
    "    def fullname(self):\n",
    "        print(f\"This employee's full name is {self.first} {self.last}\")\n",
    "    \n",
    "    def apply_raise(self):\n",
    "        self.pay = int(self.pay * raise_amount)\n",
    "    \n",
    "emp1 = Employee('Ananay','Srivastava',10000)\n",
    "emp2 = Employee('Shivang','Chaturvedi',15000)\n",
    "\n",
    "print(emp1.pay)\n",
    "emp1.apply_raise()\n",
    "print(emp1.pay)"
   ]
  },
  {
   "cell_type": "code",
   "execution_count": 14,
   "id": "edfa5b00",
   "metadata": {},
   "outputs": [
    {
     "name": "stdout",
     "output_type": "stream",
     "text": [
      "10000\n",
      "10400\n"
     ]
    }
   ],
   "source": [
    "class Employee:\n",
    "    raise_amount = 1.04\n",
    "    \n",
    "    def __init__(self,first,last,pay):  # this function is like a constructor\n",
    "        self.first = first\n",
    "        self.last = last\n",
    "        self.pay = pay\n",
    "        self.email = first.lower()+'.'+last.lower()+'@gmail.com'\n",
    "        \n",
    "    def fullname(self):\n",
    "        print(f\"This employee's full name is {self.first} {self.last}\")\n",
    "    \n",
    "    def apply_raise(self):\n",
    "        self.pay = int(self.pay * Employee.raise_amount)\n",
    "    \n",
    "emp1 = Employee('Ananay','Srivastava',10000)\n",
    "emp2 = Employee('Shivang','Chaturvedi',15000)\n",
    "\n",
    "print(emp1.pay)\n",
    "emp1.apply_raise()\n",
    "print(emp1.pay)"
   ]
  },
  {
   "cell_type": "code",
   "execution_count": 15,
   "id": "2973dedc",
   "metadata": {},
   "outputs": [
    {
     "name": "stdout",
     "output_type": "stream",
     "text": [
      "10000\n",
      "10400\n"
     ]
    }
   ],
   "source": [
    "class Employee:\n",
    "    raise_amount = 1.04\n",
    "    \n",
    "    def __init__(self,first,last,pay):  # this function is like a constructor\n",
    "        self.first = first\n",
    "        self.last = last\n",
    "        self.pay = pay\n",
    "        self.email = first.lower()+'.'+last.lower()+'@gmail.com'\n",
    "        \n",
    "    def fullname(self):\n",
    "        print(f\"This employee's full name is {self.first} {self.last}\")\n",
    "    \n",
    "    def apply_raise(self):\n",
    "        self.pay = int(self.pay * self.raise_amount)\n",
    "    \n",
    "emp1 = Employee('Ananay','Srivastava',10000)\n",
    "emp2 = Employee('Shivang','Chaturvedi',15000)\n",
    "\n",
    "print(emp1.pay)\n",
    "emp1.apply_raise()\n",
    "print(emp1.pay)"
   ]
  },
  {
   "cell_type": "code",
   "execution_count": 16,
   "id": "db869218",
   "metadata": {},
   "outputs": [
    {
     "name": "stdout",
     "output_type": "stream",
     "text": [
      "10000\n",
      "10600\n"
     ]
    }
   ],
   "source": [
    "class Employee:\n",
    "    raise_amount = 1.04\n",
    "    \n",
    "    def __init__(self,first,last,pay):  # this function is like a constructor\n",
    "        self.first = first\n",
    "        self.last = last\n",
    "        self.pay = pay\n",
    "        self.email = first.lower()+'.'+last.lower()+'@gmail.com'\n",
    "        \n",
    "    def fullname(self):\n",
    "        print(f\"This employee's full name is {self.first} {self.last}\")\n",
    "    \n",
    "    def apply_raise(self):\n",
    "        self.pay = int(self.pay * self.raise_amount)\n",
    "    \n",
    "emp1 = Employee('Ananay','Srivastava',10000)\n",
    "emp2 = Employee('Shivang','Chaturvedi',15000)\n",
    "\n",
    "print(emp1.pay)\n",
    "emp1.raise_amount = 1.06\n",
    "emp1.apply_raise()\n",
    "print(emp1.pay)"
   ]
  },
  {
   "cell_type": "code",
   "execution_count": 18,
   "id": "14d86610",
   "metadata": {},
   "outputs": [
    {
     "name": "stdout",
     "output_type": "stream",
     "text": [
      "10000\n",
      "10600\n",
      "15900\n"
     ]
    }
   ],
   "source": [
    "class Employee:\n",
    "    raise_amount = 1.04\n",
    "    \n",
    "    def __init__(self,first,last,pay):  # this function is like a constructor\n",
    "        self.first = first\n",
    "        self.last = last\n",
    "        self.pay = pay\n",
    "        self.email = first.lower()+'.'+last.lower()+'@gmail.com'\n",
    "        \n",
    "    def fullname(self):\n",
    "        print(f\"This employee's full name is {self.first} {self.last}\")\n",
    "    \n",
    "    def apply_raise(self):\n",
    "        self.pay = int(self.pay * self.raise_amount)\n",
    "    \n",
    "emp1 = Employee('Ananay','Srivastava',10000)\n",
    "emp2 = Employee('Shivang','Chaturvedi',15000)\n",
    "\n",
    "print(emp1.pay)\n",
    "Employee.raise_amount = 1.06\n",
    "emp1.apply_raise()\n",
    "print(emp1.pay)\n",
    "emp2.apply_raise()\n",
    "print(emp2.pay)"
   ]
  },
  {
   "cell_type": "code",
   "execution_count": null,
   "id": "e01c139e",
   "metadata": {},
   "outputs": [],
   "source": []
  },
  {
   "cell_type": "code",
   "execution_count": null,
   "id": "47942ae8",
   "metadata": {},
   "outputs": [],
   "source": []
  },
  {
   "cell_type": "code",
   "execution_count": null,
   "id": "7642e878",
   "metadata": {},
   "outputs": [],
   "source": []
  },
  {
   "cell_type": "code",
   "execution_count": 21,
   "id": "86c36aec",
   "metadata": {},
   "outputs": [
    {
     "name": "stdout",
     "output_type": "stream",
     "text": [
      "2\n"
     ]
    }
   ],
   "source": [
    "class Employee:\n",
    "    raise_amount = 1.04\n",
    "    no_of_emps = 0\n",
    "    \n",
    "    def __init__(self,first,last,pay):  # this function is like a constructor\n",
    "        self.first = first\n",
    "        self.last = last\n",
    "        self.pay = pay\n",
    "        self.email = first.lower()+'.'+last.lower()+'@gmail.com'\n",
    "        Employee.no_of_emps+=1\n",
    "        \n",
    "    def fullname(self):\n",
    "        print(f\"This employee's full name is {self.first} {self.last}\")\n",
    "    \n",
    "    def apply_raise(self):\n",
    "        self.pay = int(self.pay * self.raise_amount)\n",
    "    \n",
    "emp1 = Employee('Ananay','Srivastava',10000)\n",
    "emp2 = Employee('Shivang','Chaturvedi',15000)\n",
    "\n",
    "print(Employee.no_of_emps)"
   ]
  },
  {
   "cell_type": "code",
   "execution_count": 22,
   "id": "32946361",
   "metadata": {},
   "outputs": [
    {
     "name": "stdout",
     "output_type": "stream",
     "text": [
      "2\n"
     ]
    }
   ],
   "source": [
    "print(emp1.no_of_emps)"
   ]
  },
  {
   "cell_type": "code",
   "execution_count": null,
   "id": "4465afb3",
   "metadata": {},
   "outputs": [],
   "source": []
  },
  {
   "cell_type": "code",
   "execution_count": null,
   "id": "2ba4598b",
   "metadata": {},
   "outputs": [],
   "source": []
  },
  {
   "cell_type": "code",
   "execution_count": 1,
   "id": "f376b0ab",
   "metadata": {},
   "outputs": [],
   "source": [
    "# class methods"
   ]
  },
  {
   "cell_type": "code",
   "execution_count": 8,
   "id": "68ab86c9",
   "metadata": {},
   "outputs": [
    {
     "name": "stdout",
     "output_type": "stream",
     "text": [
      "1.04\n",
      "1.04\n",
      "Raise amount changed\n",
      "1.05\n",
      "1.05\n"
     ]
    }
   ],
   "source": [
    "class Employee:\n",
    "    raise_amount = 1.04\n",
    "    no_of_emps = 0\n",
    "    \n",
    "    def __init__(self,first,last,pay):  # this function is like a constructor\n",
    "        self.first = first\n",
    "        self.last = last\n",
    "        self.pay = pay\n",
    "        self.email = first.lower()+'.'+last.lower()+'@gmail.com'\n",
    "        Employee.no_of_emps+=1\n",
    "        \n",
    "    def fullname(self):\n",
    "        print(f\"This employee's full name is {self.first} {self.last}\")\n",
    "    \n",
    "    def apply_raise(self):\n",
    "        self.pay = int(self.pay * self.raise_amount)\n",
    "        \n",
    "    @classmethod          \n",
    "    def set_raise_amount(cls, amt):   # class method\n",
    "        cls.raise_amount = amt\n",
    "    \n",
    "emp1 = Employee('Ananay','Srivastava',10000)\n",
    "emp2 = Employee('Shivang','Chaturvedi',15000)\n",
    "\n",
    "print(Employee.raise_amount)\n",
    "print(emp1.raise_amount)\n",
    "Employee.set_raise_amount(1.05)\n",
    "#emp1.set_raise_amount(1.05) this will work the same way as the above one\n",
    "print('Raise amount changed')\n",
    "print(Employee.raise_amount)\n",
    "print(emp2.raise_amount)"
   ]
  },
  {
   "cell_type": "code",
   "execution_count": 15,
   "id": "a05bd9e2",
   "metadata": {},
   "outputs": [
    {
     "name": "stdout",
     "output_type": "stream",
     "text": [
      "Way 1:\n",
      "This employee's full name is Aman Srivastava\n",
      "Way 2:\n",
      "This employee's full name is Jyoti Sinha\n"
     ]
    }
   ],
   "source": [
    "class Employee:\n",
    "    raise_amount = 1.04\n",
    "    no_of_emps = 0\n",
    "    \n",
    "    def __init__(self,first,last,pay):  # this function is like a constructor\n",
    "        self.first = first\n",
    "        self.last = last\n",
    "        self.pay = pay\n",
    "        self.email = first.lower()+'.'+last.lower()+'@gmail.com'\n",
    "        Employee.no_of_emps+=1\n",
    "        \n",
    "    def fullname(self):\n",
    "        print(f\"This employee's full name is {self.first} {self.last}\")\n",
    "    \n",
    "    def apply_raise(self):\n",
    "        self.pay = int(self.pay * self.raise_amount)\n",
    "        \n",
    "    @classmethod          \n",
    "    def set_raise_amount(cls, amt):   # class method\n",
    "        cls.raise_amount = amt    \n",
    "       \n",
    "    @classmethod\n",
    "    def from_string(cls,emp_str):\n",
    "        first,last,pay = emp_str.split('-')\n",
    "        return cls(first,last,pay)\n",
    "    \n",
    "emp1 = Employee('Ananay','Srivastava',10000)\n",
    "emp2 = Employee('Shivang','Chaturvedi',15000)\n",
    "\n",
    "emp_str_3 = 'Aman-Srivastava-17000'\n",
    "emp_str_4 = 'Jyoti-Sinha-25000'\n",
    "\n",
    "# way 1\n",
    "print('Way 1:')\n",
    "first,last,pay = emp_str_3.split('-')\n",
    "emp3 = Employee(first,last,pay)\n",
    "emp3.fullname()\n",
    "\n",
    "# way 2 \n",
    "print('Way 2:')\n",
    "emp4 = Employee.from_string(emp_str_4)\n",
    "emp4.fullname()"
   ]
  },
  {
   "cell_type": "code",
   "execution_count": null,
   "id": "8a28cedb",
   "metadata": {},
   "outputs": [],
   "source": []
  },
  {
   "cell_type": "code",
   "execution_count": 17,
   "id": "d7cefa87",
   "metadata": {},
   "outputs": [],
   "source": [
    "# static methods \n",
    "# static methods are created when a method doesnt need an instance of a class"
   ]
  },
  {
   "cell_type": "code",
   "execution_count": 20,
   "id": "ffcff1cb",
   "metadata": {},
   "outputs": [
    {
     "name": "stdout",
     "output_type": "stream",
     "text": [
      "True\n"
     ]
    }
   ],
   "source": [
    "class Employee:\n",
    "    raise_amount = 1.04\n",
    "    no_of_emps = 0\n",
    "    \n",
    "    def __init__(self,first,last,pay):  # this function is like a constructor\n",
    "        self.first = first\n",
    "        self.last = last\n",
    "        self.pay = pay\n",
    "        self.email = first.lower()+'.'+last.lower()+'@gmail.com'\n",
    "        Employee.no_of_emps+=1\n",
    "        \n",
    "    def fullname(self):\n",
    "        print(f\"This employee's full name is {self.first} {self.last}\")\n",
    "    \n",
    "    def apply_raise(self):\n",
    "        self.pay = int(self.pay * self.raise_amount)\n",
    "        \n",
    "    @classmethod          \n",
    "    def set_raise_amount(cls, amt):   # class method\n",
    "        cls.raise_amount = amt    \n",
    "       \n",
    "    @classmethod\n",
    "    def from_string(cls,emp_str):\n",
    "        first,last,pay = emp_str.split('-')\n",
    "        return cls(first,last,pay)\n",
    "    \n",
    "    @staticmethod\n",
    "    def is_workday(day):\n",
    "        if day.weekday()==5 or day.weekday()==6:\n",
    "            return False\n",
    "        return True\n",
    "    \n",
    "emp1 = Employee('Ananay','Srivastava',10000)\n",
    "emp2 = Employee('Shivang','Chaturvedi',15000)\n",
    "\n",
    "\n",
    "import datetime\n",
    "my_date = datetime.date(2021,8,20)\n",
    "print(Employee.is_workday(my_date))"
   ]
  },
  {
   "cell_type": "code",
   "execution_count": null,
   "id": "dcb96795",
   "metadata": {},
   "outputs": [],
   "source": []
  }
 ],
 "metadata": {
  "kernelspec": {
   "display_name": "Python 3 (ipykernel)",
   "language": "python",
   "name": "python3"
  },
  "language_info": {
   "codemirror_mode": {
    "name": "ipython",
    "version": 3
   },
   "file_extension": ".py",
   "mimetype": "text/x-python",
   "name": "python",
   "nbconvert_exporter": "python",
   "pygments_lexer": "ipython3",
   "version": "3.9.6"
  }
 },
 "nbformat": 4,
 "nbformat_minor": 5
}
