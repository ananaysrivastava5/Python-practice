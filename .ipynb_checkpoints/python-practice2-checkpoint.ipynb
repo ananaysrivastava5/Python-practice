{
 "cells": [
  {
   "cell_type": "code",
   "execution_count": null,
   "metadata": {
    "colab": {
     "base_uri": "https://localhost:8080/"
    },
    "executionInfo": {
     "elapsed": 1881,
     "status": "ok",
     "timestamp": 1627901204763,
     "user": {
      "displayName": "Ananay Srivastava",
      "photoUrl": "https://lh3.googleusercontent.com/a-/AOh14GgjP5G5QyMNtzBl40gZxDlWSXchndUikF0sOo_1p5Y=s64",
      "userId": "07822023531696515494"
     },
     "user_tz": -330
    },
    "id": "VRuec2FVFBPA",
    "outputId": "a1a1cf81-3bce-4668-ec53-e263c1c7213e"
   },
   "outputs": [
    {
     "name": "stdout",
     "output_type": "stream",
     "text": [
      "hello\n"
     ]
    }
   ],
   "source": [
    "print(\"hello\")"
   ]
  },
  {
   "cell_type": "code",
   "execution_count": null,
   "metadata": {
    "id": "2rmduPPcFk4C"
   },
   "outputs": [],
   "source": [
    "names = ['Ananay', 'Aman', 'Mannu']"
   ]
  },
  {
   "cell_type": "code",
   "execution_count": null,
   "metadata": {
    "id": "jOog-hDYF7Hc"
   },
   "outputs": [],
   "source": [
    "names_2 = ['Lakkha', 'Rajari']\n",
    "names.insert(0,names_2)"
   ]
  },
  {
   "cell_type": "code",
   "execution_count": null,
   "metadata": {
    "colab": {
     "base_uri": "https://localhost:8080/"
    },
    "executionInfo": {
     "elapsed": 106,
     "status": "ok",
     "timestamp": 1627901204768,
     "user": {
      "displayName": "Ananay Srivastava",
      "photoUrl": "https://lh3.googleusercontent.com/a-/AOh14GgjP5G5QyMNtzBl40gZxDlWSXchndUikF0sOo_1p5Y=s64",
      "userId": "07822023531696515494"
     },
     "user_tz": -330
    },
    "id": "DgnhxAHwGOLz",
    "outputId": "d516f849-7727-4453-d54d-64e2f089c62f"
   },
   "outputs": [
    {
     "name": "stdout",
     "output_type": "stream",
     "text": [
      "[['Lakkha', 'Rajari'], 'Ananay', 'Aman', 'Mannu']\n"
     ]
    }
   ],
   "source": [
    "print(names)"
   ]
  },
  {
   "cell_type": "code",
   "execution_count": null,
   "metadata": {
    "colab": {
     "base_uri": "https://localhost:8080/"
    },
    "executionInfo": {
     "elapsed": 103,
     "status": "ok",
     "timestamp": 1627901204769,
     "user": {
      "displayName": "Ananay Srivastava",
      "photoUrl": "https://lh3.googleusercontent.com/a-/AOh14GgjP5G5QyMNtzBl40gZxDlWSXchndUikF0sOo_1p5Y=s64",
      "userId": "07822023531696515494"
     },
     "user_tz": -330
    },
    "id": "fSxib7txGRnC",
    "outputId": "6915f992-7162-4bb7-d5d0-34eb0e9d990c"
   },
   "outputs": [
    {
     "name": "stdout",
     "output_type": "stream",
     "text": [
      "['Lakkha', 'Rajari', 'Ananay', 'Aman', 'Mannu']\n"
     ]
    }
   ],
   "source": [
    "names = ['Ananay', 'Aman', 'Mannu']\n",
    "names_2.extend(names)\n",
    "print(names_2)"
   ]
  },
  {
   "cell_type": "code",
   "execution_count": null,
   "metadata": {
    "colab": {
     "base_uri": "https://localhost:8080/"
    },
    "executionInfo": {
     "elapsed": 99,
     "status": "ok",
     "timestamp": 1627901204771,
     "user": {
      "displayName": "Ananay Srivastava",
      "photoUrl": "https://lh3.googleusercontent.com/a-/AOh14GgjP5G5QyMNtzBl40gZxDlWSXchndUikF0sOo_1p5Y=s64",
      "userId": "07822023531696515494"
     },
     "user_tz": -330
    },
    "id": "n97dzzH_G15z",
    "outputId": "1d56013b-289d-4ba7-e090-f92ec68e0b95"
   },
   "outputs": [
    {
     "name": "stdout",
     "output_type": "stream",
     "text": [
      "['Ananay', 'Mannu']\n"
     ]
    }
   ],
   "source": [
    "names.remove('Aman')\n",
    "print(names)"
   ]
  },
  {
   "cell_type": "code",
   "execution_count": null,
   "metadata": {
    "colab": {
     "base_uri": "https://localhost:8080/"
    },
    "executionInfo": {
     "elapsed": 98,
     "status": "ok",
     "timestamp": 1627901204773,
     "user": {
      "displayName": "Ananay Srivastava",
      "photoUrl": "https://lh3.googleusercontent.com/a-/AOh14GgjP5G5QyMNtzBl40gZxDlWSXchndUikF0sOo_1p5Y=s64",
      "userId": "07822023531696515494"
     },
     "user_tz": -330
    },
    "id": "QrkCeGPsIArH",
    "outputId": "67ebe840-45d8-4793-d18b-f2fc3092a40c"
   },
   "outputs": [
    {
     "name": "stdout",
     "output_type": "stream",
     "text": [
      "Mannu\n"
     ]
    }
   ],
   "source": [
    "popped_ele = names_2.pop()\n",
    "print(popped_ele)"
   ]
  },
  {
   "cell_type": "code",
   "execution_count": null,
   "metadata": {
    "colab": {
     "base_uri": "https://localhost:8080/"
    },
    "executionInfo": {
     "elapsed": 95,
     "status": "ok",
     "timestamp": 1627901204774,
     "user": {
      "displayName": "Ananay Srivastava",
      "photoUrl": "https://lh3.googleusercontent.com/a-/AOh14GgjP5G5QyMNtzBl40gZxDlWSXchndUikF0sOo_1p5Y=s64",
      "userId": "07822023531696515494"
     },
     "user_tz": -330
    },
    "id": "i0IIyVLGIM1C",
    "outputId": "d6856c0d-4957-46ae-c58e-b121524d3be1"
   },
   "outputs": [
    {
     "name": "stdout",
     "output_type": "stream",
     "text": [
      "[1, 2, 3, 4, 5]\n"
     ]
    }
   ],
   "source": [
    "nums = [2,3,1,5,4]\n",
    "nums.sort()\n",
    "print(nums)"
   ]
  },
  {
   "cell_type": "code",
   "execution_count": null,
   "metadata": {
    "colab": {
     "base_uri": "https://localhost:8080/"
    },
    "executionInfo": {
     "elapsed": 94,
     "status": "ok",
     "timestamp": 1627901204776,
     "user": {
      "displayName": "Ananay Srivastava",
      "photoUrl": "https://lh3.googleusercontent.com/a-/AOh14GgjP5G5QyMNtzBl40gZxDlWSXchndUikF0sOo_1p5Y=s64",
      "userId": "07822023531696515494"
     },
     "user_tz": -330
    },
    "id": "1rXUMfctIU0t",
    "outputId": "994114c3-cdd6-4e5e-9eab-9193aae9664d"
   },
   "outputs": [
    {
     "name": "stdout",
     "output_type": "stream",
     "text": [
      "[5, 4, 3, 2, 1]\n"
     ]
    }
   ],
   "source": [
    "nums = [2,3,1,5,4]\n",
    "nums.sort(reverse=True)\n",
    "print(nums)"
   ]
  },
  {
   "cell_type": "code",
   "execution_count": null,
   "metadata": {
    "colab": {
     "base_uri": "https://localhost:8080/"
    },
    "executionInfo": {
     "elapsed": 92,
     "status": "ok",
     "timestamp": 1627901204777,
     "user": {
      "displayName": "Ananay Srivastava",
      "photoUrl": "https://lh3.googleusercontent.com/a-/AOh14GgjP5G5QyMNtzBl40gZxDlWSXchndUikF0sOo_1p5Y=s64",
      "userId": "07822023531696515494"
     },
     "user_tz": -330
    },
    "id": "Pp-WulJPI87R",
    "outputId": "298090d3-d42a-472a-c836-d3622be74a8b"
   },
   "outputs": [
    {
     "name": "stdout",
     "output_type": "stream",
     "text": [
      "[2, 3, 1, 5, 4]\n"
     ]
    }
   ],
   "source": [
    "nums = [2,3,1,5,4]\n",
    "sorted(nums)\n",
    "print(nums) # does not print sorted list"
   ]
  },
  {
   "cell_type": "code",
   "execution_count": null,
   "metadata": {
    "colab": {
     "base_uri": "https://localhost:8080/"
    },
    "executionInfo": {
     "elapsed": 89,
     "status": "ok",
     "timestamp": 1627901204778,
     "user": {
      "displayName": "Ananay Srivastava",
      "photoUrl": "https://lh3.googleusercontent.com/a-/AOh14GgjP5G5QyMNtzBl40gZxDlWSXchndUikF0sOo_1p5Y=s64",
      "userId": "07822023531696515494"
     },
     "user_tz": -330
    },
    "id": "7J15SE8eIny6",
    "outputId": "22edc160-6fb7-4f0a-c537-4e691f309bce"
   },
   "outputs": [
    {
     "name": "stdout",
     "output_type": "stream",
     "text": [
      "[1, 2, 3, 4, 5]\n"
     ]
    }
   ],
   "source": [
    "nums = [2,3,1,5,4]\n",
    "sorted_nums = sorted(nums)\n",
    "print(sorted_nums) # now prints a sorted list"
   ]
  },
  {
   "cell_type": "code",
   "execution_count": null,
   "metadata": {
    "colab": {
     "base_uri": "https://localhost:8080/"
    },
    "executionInfo": {
     "elapsed": 85,
     "status": "ok",
     "timestamp": 1627901204779,
     "user": {
      "displayName": "Ananay Srivastava",
      "photoUrl": "https://lh3.googleusercontent.com/a-/AOh14GgjP5G5QyMNtzBl40gZxDlWSXchndUikF0sOo_1p5Y=s64",
      "userId": "07822023531696515494"
     },
     "user_tz": -330
    },
    "id": "9SB4rGG5I35b",
    "outputId": "2f15320e-e5b4-4b2e-d696-27a4ccbfe5cf"
   },
   "outputs": [
    {
     "name": "stdout",
     "output_type": "stream",
     "text": [
      "max in nums:  5\n",
      "min in nums:  1\n",
      "sum of nums:  15\n"
     ]
    }
   ],
   "source": [
    "print(\"max in nums: \",max(nums))\n",
    "print(\"min in nums: \",min(nums))\n",
    "print(\"sum of nums: \",sum(nums))"
   ]
  },
  {
   "cell_type": "code",
   "execution_count": null,
   "metadata": {
    "colab": {
     "base_uri": "https://localhost:8080/"
    },
    "executionInfo": {
     "elapsed": 83,
     "status": "ok",
     "timestamp": 1627901204780,
     "user": {
      "displayName": "Ananay Srivastava",
      "photoUrl": "https://lh3.googleusercontent.com/a-/AOh14GgjP5G5QyMNtzBl40gZxDlWSXchndUikF0sOo_1p5Y=s64",
      "userId": "07822023531696515494"
     },
     "user_tz": -330
    },
    "id": "rqhB0X2mJW7V",
    "outputId": "f6b2d8d4-9237-4075-bd98-42fa0e6a5d7a"
   },
   "outputs": [
    {
     "name": "stdout",
     "output_type": "stream",
     "text": [
      "['Lakkha', 'Rajari', 'Ananay', 'Aman']\n"
     ]
    }
   ],
   "source": [
    "print(names_2)"
   ]
  },
  {
   "cell_type": "code",
   "execution_count": null,
   "metadata": {
    "colab": {
     "base_uri": "https://localhost:8080/"
    },
    "executionInfo": {
     "elapsed": 81,
     "status": "ok",
     "timestamp": 1627901204782,
     "user": {
      "displayName": "Ananay Srivastava",
      "photoUrl": "https://lh3.googleusercontent.com/a-/AOh14GgjP5G5QyMNtzBl40gZxDlWSXchndUikF0sOo_1p5Y=s64",
      "userId": "07822023531696515494"
     },
     "user_tz": -330
    },
    "id": "rQ930k6vJti7",
    "outputId": "06f103cd-757a-4f87-e326-cee7f62387ee"
   },
   "outputs": [
    {
     "name": "stdout",
     "output_type": "stream",
     "text": [
      "2\n"
     ]
    }
   ],
   "source": [
    "print(names_2.index('Ananay'))"
   ]
  },
  {
   "cell_type": "code",
   "execution_count": null,
   "metadata": {
    "colab": {
     "base_uri": "https://localhost:8080/"
    },
    "executionInfo": {
     "elapsed": 80,
     "status": "ok",
     "timestamp": 1627901204784,
     "user": {
      "displayName": "Ananay Srivastava",
      "photoUrl": "https://lh3.googleusercontent.com/a-/AOh14GgjP5G5QyMNtzBl40gZxDlWSXchndUikF0sOo_1p5Y=s64",
      "userId": "07822023531696515494"
     },
     "user_tz": -330
    },
    "id": "mR8e0oJoJz1P",
    "outputId": "18b7495a-4168-4ba1-b207-e5a32a9670b4"
   },
   "outputs": [
    {
     "name": "stdout",
     "output_type": "stream",
     "text": [
      "False\n"
     ]
    }
   ],
   "source": [
    "print('Messi' in names_2)"
   ]
  },
  {
   "cell_type": "code",
   "execution_count": null,
   "metadata": {
    "colab": {
     "base_uri": "https://localhost:8080/"
    },
    "executionInfo": {
     "elapsed": 78,
     "status": "ok",
     "timestamp": 1627901204785,
     "user": {
      "displayName": "Ananay Srivastava",
      "photoUrl": "https://lh3.googleusercontent.com/a-/AOh14GgjP5G5QyMNtzBl40gZxDlWSXchndUikF0sOo_1p5Y=s64",
      "userId": "07822023531696515494"
     },
     "user_tz": -330
    },
    "id": "NkqjSn6MJ74Z",
    "outputId": "a5a56db3-da92-49f4-9e27-09d5e7248abd"
   },
   "outputs": [
    {
     "name": "stdout",
     "output_type": "stream",
     "text": [
      "0 Lakkha\n",
      "1 Rajari\n",
      "2 Ananay\n",
      "3 Aman\n"
     ]
    }
   ],
   "source": [
    "for index,name in enumerate(names_2):\n",
    "  print(index, name)"
   ]
  },
  {
   "cell_type": "code",
   "execution_count": null,
   "metadata": {
    "colab": {
     "base_uri": "https://localhost:8080/"
    },
    "executionInfo": {
     "elapsed": 75,
     "status": "ok",
     "timestamp": 1627901204786,
     "user": {
      "displayName": "Ananay Srivastava",
      "photoUrl": "https://lh3.googleusercontent.com/a-/AOh14GgjP5G5QyMNtzBl40gZxDlWSXchndUikF0sOo_1p5Y=s64",
      "userId": "07822023531696515494"
     },
     "user_tz": -330
    },
    "id": "nrcDHrSmKb53",
    "outputId": "ff245b94-2b08-423b-ff56-8d1e302092db"
   },
   "outputs": [
    {
     "name": "stdout",
     "output_type": "stream",
     "text": [
      "1 Lakkha\n",
      "2 Rajari\n",
      "3 Ananay\n",
      "4 Aman\n"
     ]
    }
   ],
   "source": [
    "for index,name in enumerate(names_2, start=1):\n",
    "  print(index, name)"
   ]
  },
  {
   "cell_type": "code",
   "execution_count": null,
   "metadata": {
    "colab": {
     "base_uri": "https://localhost:8080/"
    },
    "executionInfo": {
     "elapsed": 73,
     "status": "ok",
     "timestamp": 1627901204787,
     "user": {
      "displayName": "Ananay Srivastava",
      "photoUrl": "https://lh3.googleusercontent.com/a-/AOh14GgjP5G5QyMNtzBl40gZxDlWSXchndUikF0sOo_1p5Y=s64",
      "userId": "07822023531696515494"
     },
     "user_tz": -330
    },
    "id": "Sb-yFAdaKk22",
    "outputId": "a9f317ca-29f6-49da-e11d-62a1855d016d"
   },
   "outputs": [
    {
     "name": "stdout",
     "output_type": "stream",
     "text": [
      "Lakkha, Rajari, Ananay, Aman\n"
     ]
    }
   ],
   "source": [
    "names_str = ', '.join(names_2)\n",
    "print(names_str)"
   ]
  },
  {
   "cell_type": "code",
   "execution_count": null,
   "metadata": {
    "colab": {
     "base_uri": "https://localhost:8080/"
    },
    "executionInfo": {
     "elapsed": 72,
     "status": "ok",
     "timestamp": 1627901204789,
     "user": {
      "displayName": "Ananay Srivastava",
      "photoUrl": "https://lh3.googleusercontent.com/a-/AOh14GgjP5G5QyMNtzBl40gZxDlWSXchndUikF0sOo_1p5Y=s64",
      "userId": "07822023531696515494"
     },
     "user_tz": -330
    },
    "id": "-pJT0Zn-K5pt",
    "outputId": "425be4a0-c70a-4462-fafb-66f51c5d26d8"
   },
   "outputs": [
    {
     "name": "stdout",
     "output_type": "stream",
     "text": [
      "['Lakkha', 'Rajari', 'Ananay', 'Aman']\n"
     ]
    }
   ],
   "source": [
    "names_list = names_str.split(', ')\n",
    "print(names_list)"
   ]
  },
  {
   "cell_type": "code",
   "execution_count": null,
   "metadata": {
    "id": "jRLDDEUuLrPm"
   },
   "outputs": [],
   "source": [
    "# Lists are mutable. Tuples are not mutable"
   ]
  },
  {
   "cell_type": "code",
   "execution_count": null,
   "metadata": {
    "colab": {
     "base_uri": "https://localhost:8080/"
    },
    "executionInfo": {
     "elapsed": 71,
     "status": "ok",
     "timestamp": 1627901204791,
     "user": {
      "displayName": "Ananay Srivastava",
      "photoUrl": "https://lh3.googleusercontent.com/a-/AOh14GgjP5G5QyMNtzBl40gZxDlWSXchndUikF0sOo_1p5Y=s64",
      "userId": "07822023531696515494"
     },
     "user_tz": -330
    },
    "id": "3A0iflTyLx4r",
    "outputId": "dbaf0589-0ccb-4b42-90ae-909d8da81c6d"
   },
   "outputs": [
    {
     "name": "stdout",
     "output_type": "stream",
     "text": [
      "('Ananay', 'Aman', 'Lakkha', 'Rajari')\n"
     ]
    }
   ],
   "source": [
    "names_tuple = ('Ananay', 'Aman', 'Lakkha', 'Rajari')\n",
    "print(names_tuple)"
   ]
  },
  {
   "cell_type": "code",
   "execution_count": null,
   "metadata": {
    "colab": {
     "base_uri": "https://localhost:8080/",
     "height": 163
    },
    "executionInfo": {
     "elapsed": 89,
     "status": "error",
     "timestamp": 1627901204812,
     "user": {
      "displayName": "Ananay Srivastava",
      "photoUrl": "https://lh3.googleusercontent.com/a-/AOh14GgjP5G5QyMNtzBl40gZxDlWSXchndUikF0sOo_1p5Y=s64",
      "userId": "07822023531696515494"
     },
     "user_tz": -330
    },
    "id": "NIBbvUR7MU-U",
    "outputId": "33c21003-8141-4710-dd62-435bf37b3b50"
   },
   "outputs": [
    {
     "ename": "TypeError",
     "evalue": "ignored",
     "output_type": "error",
     "traceback": [
      "\u001b[0;31m---------------------------------------------------------------------------\u001b[0m",
      "\u001b[0;31mTypeError\u001b[0m                                 Traceback (most recent call last)",
      "\u001b[0;32m<ipython-input-22-6dec698a21aa>\u001b[0m in \u001b[0;36m<module>\u001b[0;34m()\u001b[0m\n\u001b[0;32m----> 1\u001b[0;31m \u001b[0mnames_tuple\u001b[0m\u001b[0;34m[\u001b[0m\u001b[0;36m0\u001b[0m\u001b[0;34m]\u001b[0m\u001b[0;34m=\u001b[0m\u001b[0;34m'Messi'\u001b[0m\u001b[0;34m\u001b[0m\u001b[0;34m\u001b[0m\u001b[0m\n\u001b[0m",
      "\u001b[0;31mTypeError\u001b[0m: 'tuple' object does not support item assignment"
     ]
    }
   ],
   "source": [
    "names_tuple[0]='Messi'"
   ]
  },
  {
   "cell_type": "code",
   "execution_count": null,
   "metadata": {
    "colab": {
     "base_uri": "https://localhost:8080/",
     "height": 163
    },
    "executionInfo": {
     "elapsed": 1700,
     "status": "error",
     "timestamp": 1627901243371,
     "user": {
      "displayName": "Ananay Srivastava",
      "photoUrl": "https://lh3.googleusercontent.com/a-/AOh14GgjP5G5QyMNtzBl40gZxDlWSXchndUikF0sOo_1p5Y=s64",
      "userId": "07822023531696515494"
     },
     "user_tz": -330
    },
    "id": "z83uF3V-Mar9",
    "outputId": "ecd65bfd-4302-4599-d5f6-131d49cb0982"
   },
   "outputs": [
    {
     "ename": "AttributeError",
     "evalue": "ignored",
     "output_type": "error",
     "traceback": [
      "\u001b[0;31m---------------------------------------------------------------------------\u001b[0m",
      "\u001b[0;31mAttributeError\u001b[0m                            Traceback (most recent call last)",
      "\u001b[0;32m<ipython-input-23-479f43de512a>\u001b[0m in \u001b[0;36m<module>\u001b[0;34m()\u001b[0m\n\u001b[0;32m----> 1\u001b[0;31m \u001b[0mnames_tuple\u001b[0m\u001b[0;34m.\u001b[0m\u001b[0msort\u001b[0m\u001b[0;34m(\u001b[0m\u001b[0;34m)\u001b[0m\u001b[0;34m\u001b[0m\u001b[0;34m\u001b[0m\u001b[0m\n\u001b[0m",
      "\u001b[0;31mAttributeError\u001b[0m: 'tuple' object has no attribute 'sort'"
     ]
    }
   ],
   "source": [
    "names_tuple.sort()"
   ]
  },
  {
   "cell_type": "code",
   "execution_count": null,
   "metadata": {
    "id": "9orHLJ0eMjvJ"
   },
   "outputs": [],
   "source": [
    "# Sets"
   ]
  },
  {
   "cell_type": "code",
   "execution_count": null,
   "metadata": {
    "colab": {
     "base_uri": "https://localhost:8080/"
    },
    "executionInfo": {
     "elapsed": 15,
     "status": "ok",
     "timestamp": 1627901244984,
     "user": {
      "displayName": "Ananay Srivastava",
      "photoUrl": "https://lh3.googleusercontent.com/a-/AOh14GgjP5G5QyMNtzBl40gZxDlWSXchndUikF0sOo_1p5Y=s64",
      "userId": "07822023531696515494"
     },
     "user_tz": -330
    },
    "id": "gk1FtjimMsy2",
    "outputId": "ee4d8ef8-3fdc-49cd-b656-d1a51cfb625d"
   },
   "outputs": [
    {
     "name": "stdout",
     "output_type": "stream",
     "text": [
      "{'CN', 'COA', 'DSA', 'DBMS'}\n"
     ]
    }
   ],
   "source": [
    "courses = {'DSA', 'CN', 'DBMS', 'COA'}\n",
    "print(courses) # order not same as defined"
   ]
  },
  {
   "cell_type": "code",
   "execution_count": null,
   "metadata": {
    "colab": {
     "base_uri": "https://localhost:8080/"
    },
    "executionInfo": {
     "elapsed": 13,
     "status": "ok",
     "timestamp": 1627901244985,
     "user": {
      "displayName": "Ananay Srivastava",
      "photoUrl": "https://lh3.googleusercontent.com/a-/AOh14GgjP5G5QyMNtzBl40gZxDlWSXchndUikF0sOo_1p5Y=s64",
      "userId": "07822023531696515494"
     },
     "user_tz": -330
    },
    "id": "xghnYcCBM-6Z",
    "outputId": "d5bfbe58-36e8-44f1-a65c-daad9da48a3d"
   },
   "outputs": [
    {
     "name": "stdout",
     "output_type": "stream",
     "text": [
      "{'CN', 'COA', 'DSA', 'DBMS'}\n"
     ]
    }
   ],
   "source": [
    "courses.add('COA')\n",
    "print(courses)"
   ]
  },
  {
   "cell_type": "code",
   "execution_count": null,
   "metadata": {
    "id": "H1ayMJbQNb4n"
   },
   "outputs": [],
   "source": [
    "courses_2 = {'OS', 'DSA', 'DBMS', 'TFCS'}"
   ]
  },
  {
   "cell_type": "code",
   "execution_count": null,
   "metadata": {
    "colab": {
     "base_uri": "https://localhost:8080/"
    },
    "executionInfo": {
     "elapsed": 13,
     "status": "ok",
     "timestamp": 1627901246546,
     "user": {
      "displayName": "Ananay Srivastava",
      "photoUrl": "https://lh3.googleusercontent.com/a-/AOh14GgjP5G5QyMNtzBl40gZxDlWSXchndUikF0sOo_1p5Y=s64",
      "userId": "07822023531696515494"
     },
     "user_tz": -330
    },
    "id": "1VRUwkr2OFKj",
    "outputId": "02f88cce-882d-4252-d5b6-a319d66b46de"
   },
   "outputs": [
    {
     "name": "stdout",
     "output_type": "stream",
     "text": [
      "{'DSA', 'DBMS'}\n"
     ]
    }
   ],
   "source": [
    "print(courses.intersection(courses_2))"
   ]
  },
  {
   "cell_type": "code",
   "execution_count": null,
   "metadata": {
    "colab": {
     "base_uri": "https://localhost:8080/"
    },
    "executionInfo": {
     "elapsed": 10,
     "status": "ok",
     "timestamp": 1627901246546,
     "user": {
      "displayName": "Ananay Srivastava",
      "photoUrl": "https://lh3.googleusercontent.com/a-/AOh14GgjP5G5QyMNtzBl40gZxDlWSXchndUikF0sOo_1p5Y=s64",
      "userId": "07822023531696515494"
     },
     "user_tz": -330
    },
    "id": "MYDOa6r1ONJm",
    "outputId": "940a6bec-4e66-4df1-f7ce-a19065045f20"
   },
   "outputs": [
    {
     "name": "stdout",
     "output_type": "stream",
     "text": [
      "{'CN', 'COA'}\n"
     ]
    }
   ],
   "source": [
    "print(courses.difference(courses_2))"
   ]
  },
  {
   "cell_type": "code",
   "execution_count": null,
   "metadata": {
    "colab": {
     "base_uri": "https://localhost:8080/"
    },
    "executionInfo": {
     "elapsed": 11,
     "status": "ok",
     "timestamp": 1627901247733,
     "user": {
      "displayName": "Ananay Srivastava",
      "photoUrl": "https://lh3.googleusercontent.com/a-/AOh14GgjP5G5QyMNtzBl40gZxDlWSXchndUikF0sOo_1p5Y=s64",
      "userId": "07822023531696515494"
     },
     "user_tz": -330
    },
    "id": "ZkVu-e84OSuz",
    "outputId": "94d5ad27-d897-45d4-8297-e7072b906045"
   },
   "outputs": [
    {
     "name": "stdout",
     "output_type": "stream",
     "text": [
      "{'COA', 'CN', 'DBMS', 'DSA', 'OS', 'TFCS'}\n"
     ]
    }
   ],
   "source": [
    "print(courses.union(courses_2))"
   ]
  },
  {
   "cell_type": "code",
   "execution_count": null,
   "metadata": {
    "id": "03wP4OoPOb1e"
   },
   "outputs": [],
   "source": [
    "# Empty list\n",
    "l1 = []\n",
    "l2 = list()"
   ]
  },
  {
   "cell_type": "code",
   "execution_count": null,
   "metadata": {
    "id": "pEMgD7abOqOD"
   },
   "outputs": [],
   "source": [
    "# Empty tuple \n",
    "t1 = ()\n",
    "t2 = tuple()"
   ]
  },
  {
   "cell_type": "code",
   "execution_count": null,
   "metadata": {
    "id": "p7HF2sbSOxwx"
   },
   "outputs": [],
   "source": [
    "# empty sets\n",
    "s1 = set()\n"
   ]
  },
  {
   "cell_type": "code",
   "execution_count": null,
   "metadata": {
    "id": "KeGWSblkO3mx"
   },
   "outputs": [],
   "source": [
    "s2 = {} # this is an empty dictionary"
   ]
  },
  {
   "cell_type": "code",
   "execution_count": null,
   "metadata": {
    "id": "BtUriVcPPEJR"
   },
   "outputs": [],
   "source": [
    "# Dictionaries"
   ]
  },
  {
   "cell_type": "code",
   "execution_count": null,
   "metadata": {
    "id": "HHa9NDIsPfuK"
   },
   "outputs": [],
   "source": [
    "student = {'name': 'Ananay', 'age': 25, 'courses': ['DSA','COA']}"
   ]
  },
  {
   "cell_type": "code",
   "execution_count": null,
   "metadata": {
    "colab": {
     "base_uri": "https://localhost:8080/"
    },
    "executionInfo": {
     "elapsed": 490,
     "status": "ok",
     "timestamp": 1627902332499,
     "user": {
      "displayName": "Ananay Srivastava",
      "photoUrl": "https://lh3.googleusercontent.com/a-/AOh14GgjP5G5QyMNtzBl40gZxDlWSXchndUikF0sOo_1p5Y=s64",
      "userId": "07822023531696515494"
     },
     "user_tz": -330
    },
    "id": "1buNllGMQ4ft",
    "outputId": "00ad2da0-7ce0-4b3e-d642-411452b7c6cf"
   },
   "outputs": [
    {
     "name": "stdout",
     "output_type": "stream",
     "text": [
      "{'name': 'Ananay', 'age': 25, 'courses': ['DSA', 'COA']}\n"
     ]
    }
   ],
   "source": [
    "print(student)"
   ]
  },
  {
   "cell_type": "code",
   "execution_count": null,
   "metadata": {
    "colab": {
     "base_uri": "https://localhost:8080/"
    },
    "executionInfo": {
     "elapsed": 504,
     "status": "ok",
     "timestamp": 1627902350634,
     "user": {
      "displayName": "Ananay Srivastava",
      "photoUrl": "https://lh3.googleusercontent.com/a-/AOh14GgjP5G5QyMNtzBl40gZxDlWSXchndUikF0sOo_1p5Y=s64",
      "userId": "07822023531696515494"
     },
     "user_tz": -330
    },
    "id": "Xj-VGVhFiklw",
    "outputId": "2120e6a2-6757-4966-feb5-25dc4c3e67ae"
   },
   "outputs": [
    {
     "name": "stdout",
     "output_type": "stream",
     "text": [
      "Ananay\n"
     ]
    }
   ],
   "source": [
    "print(student['name'])"
   ]
  },
  {
   "cell_type": "code",
   "execution_count": null,
   "metadata": {
    "colab": {
     "base_uri": "https://localhost:8080/"
    },
    "executionInfo": {
     "elapsed": 476,
     "status": "ok",
     "timestamp": 1627902391462,
     "user": {
      "displayName": "Ananay Srivastava",
      "photoUrl": "https://lh3.googleusercontent.com/a-/AOh14GgjP5G5QyMNtzBl40gZxDlWSXchndUikF0sOo_1p5Y=s64",
      "userId": "07822023531696515494"
     },
     "user_tz": -330
    },
    "id": "kADROcyVipBy",
    "outputId": "6957e1bb-772b-4ce5-e655-41474da8a446"
   },
   "outputs": [
    {
     "name": "stdout",
     "output_type": "stream",
     "text": [
      "DSA\n"
     ]
    }
   ],
   "source": [
    "print(student['courses'][0])"
   ]
  },
  {
   "cell_type": "code",
   "execution_count": null,
   "metadata": {
    "id": "lBTrqDPIiw49"
   },
   "outputs": [],
   "source": [
    "dict1 = {1:'ball', 2:'doll', 3:'brawl'}"
   ]
  },
  {
   "cell_type": "code",
   "execution_count": null,
   "metadata": {
    "colab": {
     "base_uri": "https://localhost:8080/",
     "height": 35
    },
    "executionInfo": {
     "elapsed": 10,
     "status": "ok",
     "timestamp": 1627902470551,
     "user": {
      "displayName": "Ananay Srivastava",
      "photoUrl": "https://lh3.googleusercontent.com/a-/AOh14GgjP5G5QyMNtzBl40gZxDlWSXchndUikF0sOo_1p5Y=s64",
      "userId": "07822023531696515494"
     },
     "user_tz": -330
    },
    "id": "Hdu7N2DFjCfB",
    "outputId": "56bfe256-4389-47fb-fbde-c792b8ed21a8"
   },
   "outputs": [
    {
     "data": {
      "application/vnd.google.colaboratory.intrinsic+json": {
       "type": "string"
      },
      "text/plain": [
       "'ball'"
      ]
     },
     "execution_count": 45,
     "metadata": {
      "tags": []
     },
     "output_type": "execute_result"
    }
   ],
   "source": [
    "dict1[1]"
   ]
  },
  {
   "cell_type": "code",
   "execution_count": null,
   "metadata": {
    "colab": {
     "base_uri": "https://localhost:8080/",
     "height": 163
    },
    "executionInfo": {
     "elapsed": 636,
     "status": "error",
     "timestamp": 1627902517720,
     "user": {
      "displayName": "Ananay Srivastava",
      "photoUrl": "https://lh3.googleusercontent.com/a-/AOh14GgjP5G5QyMNtzBl40gZxDlWSXchndUikF0sOo_1p5Y=s64",
      "userId": "07822023531696515494"
     },
     "user_tz": -330
    },
    "id": "wlHE2JiYjE_I",
    "outputId": "34dc39ef-5a44-4e25-eaea-1128ea444524"
   },
   "outputs": [
    {
     "ename": "KeyError",
     "evalue": "ignored",
     "output_type": "error",
     "traceback": [
      "\u001b[0;31m---------------------------------------------------------------------------\u001b[0m",
      "\u001b[0;31mKeyError\u001b[0m                                  Traceback (most recent call last)",
      "\u001b[0;32m<ipython-input-47-76de8db1b7c3>\u001b[0m in \u001b[0;36m<module>\u001b[0;34m()\u001b[0m\n\u001b[0;32m----> 1\u001b[0;31m \u001b[0mprint\u001b[0m\u001b[0;34m(\u001b[0m\u001b[0mstudent\u001b[0m\u001b[0;34m[\u001b[0m\u001b[0;34m'phone'\u001b[0m\u001b[0;34m]\u001b[0m\u001b[0;34m)\u001b[0m \u001b[0;31m# will give error\u001b[0m\u001b[0;34m\u001b[0m\u001b[0;34m\u001b[0m\u001b[0m\n\u001b[0m",
      "\u001b[0;31mKeyError\u001b[0m: 'phone'"
     ]
    }
   ],
   "source": [
    "print(student['phone']) # will give error"
   ]
  },
  {
   "cell_type": "code",
   "execution_count": null,
   "metadata": {
    "colab": {
     "base_uri": "https://localhost:8080/"
    },
    "executionInfo": {
     "elapsed": 453,
     "status": "ok",
     "timestamp": 1627902536500,
     "user": {
      "displayName": "Ananay Srivastava",
      "photoUrl": "https://lh3.googleusercontent.com/a-/AOh14GgjP5G5QyMNtzBl40gZxDlWSXchndUikF0sOo_1p5Y=s64",
      "userId": "07822023531696515494"
     },
     "user_tz": -330
    },
    "id": "s8mptHv4jL6x",
    "outputId": "6c594c0e-0319-4c65-9bfd-c7aa838b3106"
   },
   "outputs": [
    {
     "name": "stdout",
     "output_type": "stream",
     "text": [
      "None\n"
     ]
    }
   ],
   "source": [
    "print(student.get('phone'))"
   ]
  },
  {
   "cell_type": "code",
   "execution_count": null,
   "metadata": {
    "colab": {
     "base_uri": "https://localhost:8080/"
    },
    "executionInfo": {
     "elapsed": 436,
     "status": "ok",
     "timestamp": 1627902561448,
     "user": {
      "displayName": "Ananay Srivastava",
      "photoUrl": "https://lh3.googleusercontent.com/a-/AOh14GgjP5G5QyMNtzBl40gZxDlWSXchndUikF0sOo_1p5Y=s64",
      "userId": "07822023531696515494"
     },
     "user_tz": -330
    },
    "id": "aV5u4J3PjWay",
    "outputId": "cc64a8b0-857c-4101-f4f5-ff90378902fd"
   },
   "outputs": [
    {
     "name": "stdout",
     "output_type": "stream",
     "text": [
      "not present\n"
     ]
    }
   ],
   "source": [
    "print(student.get('phone', 'not present'))"
   ]
  },
  {
   "cell_type": "code",
   "execution_count": null,
   "metadata": {
    "id": "UjPYunk2jcg1"
   },
   "outputs": [],
   "source": [
    "student['phone'] ='555-555-555'"
   ]
  },
  {
   "cell_type": "code",
   "execution_count": null,
   "metadata": {
    "id": "l-1bN9xPqMOS"
   },
   "outputs": [],
   "source": [
    "student['name'] = 'Aman'"
   ]
  },
  {
   "cell_type": "code",
   "execution_count": null,
   "metadata": {
    "colab": {
     "base_uri": "https://localhost:8080/"
    },
    "executionInfo": {
     "elapsed": 468,
     "status": "ok",
     "timestamp": 1627904362589,
     "user": {
      "displayName": "Ananay Srivastava",
      "photoUrl": "https://lh3.googleusercontent.com/a-/AOh14GgjP5G5QyMNtzBl40gZxDlWSXchndUikF0sOo_1p5Y=s64",
      "userId": "07822023531696515494"
     },
     "user_tz": -330
    },
    "id": "glCXc-3rqRXf",
    "outputId": "f6c38782-67fa-4994-e323-6ac424aa223b"
   },
   "outputs": [
    {
     "name": "stdout",
     "output_type": "stream",
     "text": [
      "Aman\n"
     ]
    }
   ],
   "source": [
    "print(student['name'])"
   ]
  },
  {
   "cell_type": "code",
   "execution_count": null,
   "metadata": {
    "colab": {
     "base_uri": "https://localhost:8080/"
    },
    "executionInfo": {
     "elapsed": 457,
     "status": "ok",
     "timestamp": 1627904409630,
     "user": {
      "displayName": "Ananay Srivastava",
      "photoUrl": "https://lh3.googleusercontent.com/a-/AOh14GgjP5G5QyMNtzBl40gZxDlWSXchndUikF0sOo_1p5Y=s64",
      "userId": "07822023531696515494"
     },
     "user_tz": -330
    },
    "id": "FGsMENLuqdmx",
    "outputId": "4d59385d-6d31-41c9-cf3e-18d9657ae16d"
   },
   "outputs": [
    {
     "name": "stdout",
     "output_type": "stream",
     "text": [
      "{'name': 'Aman', 'age': 25, 'courses': ['DSA', 'COA'], 'phone': '555-555-555'}\n"
     ]
    }
   ],
   "source": [
    "print(student)"
   ]
  },
  {
   "cell_type": "code",
   "execution_count": null,
   "metadata": {
    "id": "bKxJTE6MqUO_"
   },
   "outputs": [],
   "source": [
    "student.update({'name': 'Ananay', 'age': 21, 'phone': '9643-182'})"
   ]
  },
  {
   "cell_type": "code",
   "execution_count": null,
   "metadata": {
    "colab": {
     "base_uri": "https://localhost:8080/"
    },
    "executionInfo": {
     "elapsed": 440,
     "status": "ok",
     "timestamp": 1627904455281,
     "user": {
      "displayName": "Ananay Srivastava",
      "photoUrl": "https://lh3.googleusercontent.com/a-/AOh14GgjP5G5QyMNtzBl40gZxDlWSXchndUikF0sOo_1p5Y=s64",
      "userId": "07822023531696515494"
     },
     "user_tz": -330
    },
    "id": "g1hEvaYJqm9F",
    "outputId": "9a2f467b-bc99-40de-9a7c-0a3dda6cb92b"
   },
   "outputs": [
    {
     "name": "stdout",
     "output_type": "stream",
     "text": [
      "{'name': 'Ananay', 'age': 21, 'courses': ['DSA', 'COA'], 'phone': '9643-182'}\n"
     ]
    }
   ],
   "source": [
    "print(student)"
   ]
  },
  {
   "cell_type": "code",
   "execution_count": null,
   "metadata": {
    "colab": {
     "base_uri": "https://localhost:8080/"
    },
    "executionInfo": {
     "elapsed": 441,
     "status": "ok",
     "timestamp": 1627904511780,
     "user": {
      "displayName": "Ananay Srivastava",
      "photoUrl": "https://lh3.googleusercontent.com/a-/AOh14GgjP5G5QyMNtzBl40gZxDlWSXchndUikF0sOo_1p5Y=s64",
      "userId": "07822023531696515494"
     },
     "user_tz": -330
    },
    "id": "b-Prfjfmqq1D",
    "outputId": "6dd24e12-45e5-4e6d-9754-a8537086e5a4"
   },
   "outputs": [
    {
     "data": {
      "text/plain": [
       "21"
      ]
     },
     "execution_count": 56,
     "metadata": {
      "tags": []
     },
     "output_type": "execute_result"
    }
   ],
   "source": [
    "student.pop('age')\n",
    "#age = student.pop('age')"
   ]
  },
  {
   "cell_type": "code",
   "execution_count": null,
   "metadata": {
    "colab": {
     "base_uri": "https://localhost:8080/"
    },
    "executionInfo": {
     "elapsed": 453,
     "status": "ok",
     "timestamp": 1627904571698,
     "user": {
      "displayName": "Ananay Srivastava",
      "photoUrl": "https://lh3.googleusercontent.com/a-/AOh14GgjP5G5QyMNtzBl40gZxDlWSXchndUikF0sOo_1p5Y=s64",
      "userId": "07822023531696515494"
     },
     "user_tz": -330
    },
    "id": "uzAS860Uq4qu",
    "outputId": "1626da4b-2990-4ea0-9c65-9237f42c3d52"
   },
   "outputs": [
    {
     "name": "stdout",
     "output_type": "stream",
     "text": [
      "{'name': 'Ananay', 'courses': ['DSA', 'COA']}\n"
     ]
    }
   ],
   "source": [
    "del student['phone']\n",
    "print(student)"
   ]
  },
  {
   "cell_type": "code",
   "execution_count": null,
   "metadata": {
    "colab": {
     "base_uri": "https://localhost:8080/"
    },
    "executionInfo": {
     "elapsed": 440,
     "status": "ok",
     "timestamp": 1627904639303,
     "user": {
      "displayName": "Ananay Srivastava",
      "photoUrl": "https://lh3.googleusercontent.com/a-/AOh14GgjP5G5QyMNtzBl40gZxDlWSXchndUikF0sOo_1p5Y=s64",
      "userId": "07822023531696515494"
     },
     "user_tz": -330
    },
    "id": "C1Uy9wiqrHS8",
    "outputId": "4226fc35-ebc3-4737-e06f-b92407c4b429"
   },
   "outputs": [
    {
     "name": "stdout",
     "output_type": "stream",
     "text": [
      "4\n"
     ]
    }
   ],
   "source": [
    "student = {'name': 'Ananay', 'age': 21, 'courses': ['DSA', 'COA'], 'phone': '9643-182'}\n",
    "print(len(student))"
   ]
  },
  {
   "cell_type": "code",
   "execution_count": null,
   "metadata": {
    "colab": {
     "base_uri": "https://localhost:8080/"
    },
    "executionInfo": {
     "elapsed": 444,
     "status": "ok",
     "timestamp": 1627904653903,
     "user": {
      "displayName": "Ananay Srivastava",
      "photoUrl": "https://lh3.googleusercontent.com/a-/AOh14GgjP5G5QyMNtzBl40gZxDlWSXchndUikF0sOo_1p5Y=s64",
      "userId": "07822023531696515494"
     },
     "user_tz": -330
    },
    "id": "omOHebjErU_1",
    "outputId": "86dd7e3f-6beb-432a-f568-35d0900fc40c"
   },
   "outputs": [
    {
     "name": "stdout",
     "output_type": "stream",
     "text": [
      "dict_keys(['name', 'age', 'courses', 'phone'])\n"
     ]
    }
   ],
   "source": [
    "print(student.keys())"
   ]
  },
  {
   "cell_type": "code",
   "execution_count": null,
   "metadata": {
    "colab": {
     "base_uri": "https://localhost:8080/"
    },
    "executionInfo": {
     "elapsed": 429,
     "status": "ok",
     "timestamp": 1627904669968,
     "user": {
      "displayName": "Ananay Srivastava",
      "photoUrl": "https://lh3.googleusercontent.com/a-/AOh14GgjP5G5QyMNtzBl40gZxDlWSXchndUikF0sOo_1p5Y=s64",
      "userId": "07822023531696515494"
     },
     "user_tz": -330
    },
    "id": "vI7R5JSirbXR",
    "outputId": "4cf9681f-d18e-4aab-9ad4-d6a45f9aa888"
   },
   "outputs": [
    {
     "name": "stdout",
     "output_type": "stream",
     "text": [
      "dict_values(['Ananay', 21, ['DSA', 'COA'], '9643-182'])\n"
     ]
    }
   ],
   "source": [
    "print(student.values())"
   ]
  },
  {
   "cell_type": "code",
   "execution_count": null,
   "metadata": {
    "colab": {
     "base_uri": "https://localhost:8080/"
    },
    "executionInfo": {
     "elapsed": 736,
     "status": "ok",
     "timestamp": 1627904688543,
     "user": {
      "displayName": "Ananay Srivastava",
      "photoUrl": "https://lh3.googleusercontent.com/a-/AOh14GgjP5G5QyMNtzBl40gZxDlWSXchndUikF0sOo_1p5Y=s64",
      "userId": "07822023531696515494"
     },
     "user_tz": -330
    },
    "id": "7Ja6k_j9rfSW",
    "outputId": "a85ce4e5-f590-41b6-b455-0547c7d968c1"
   },
   "outputs": [
    {
     "name": "stdout",
     "output_type": "stream",
     "text": [
      "dict_items([('name', 'Ananay'), ('age', 21), ('courses', ['DSA', 'COA']), ('phone', '9643-182')])\n"
     ]
    }
   ],
   "source": [
    "  print(student.items())"
   ]
  },
  {
   "cell_type": "code",
   "execution_count": null,
   "metadata": {
    "colab": {
     "base_uri": "https://localhost:8080/"
    },
    "executionInfo": {
     "elapsed": 7,
     "status": "ok",
     "timestamp": 1627904726329,
     "user": {
      "displayName": "Ananay Srivastava",
      "photoUrl": "https://lh3.googleusercontent.com/a-/AOh14GgjP5G5QyMNtzBl40gZxDlWSXchndUikF0sOo_1p5Y=s64",
      "userId": "07822023531696515494"
     },
     "user_tz": -330
    },
    "id": "jk8avuwwrjtm",
    "outputId": "aa8add81-ce96-4078-ca3b-5c83b500c20c"
   },
   "outputs": [
    {
     "name": "stdout",
     "output_type": "stream",
     "text": [
      "name\n",
      "age\n",
      "courses\n",
      "phone\n"
     ]
    }
   ],
   "source": [
    "for key in student:\n",
    "  print(key)"
   ]
  },
  {
   "cell_type": "code",
   "execution_count": null,
   "metadata": {
    "colab": {
     "base_uri": "https://localhost:8080/"
    },
    "executionInfo": {
     "elapsed": 442,
     "status": "ok",
     "timestamp": 1627904790254,
     "user": {
      "displayName": "Ananay Srivastava",
      "photoUrl": "https://lh3.googleusercontent.com/a-/AOh14GgjP5G5QyMNtzBl40gZxDlWSXchndUikF0sOo_1p5Y=s64",
      "userId": "07822023531696515494"
     },
     "user_tz": -330
    },
    "id": "toMJkxNqrqLl",
    "outputId": "9cc68dad-169e-49d1-d900-7c17ae5377aa"
   },
   "outputs": [
    {
     "name": "stdout",
     "output_type": "stream",
     "text": [
      "name : Ananay\n",
      "age : 21\n",
      "courses : ['DSA', 'COA']\n",
      "phone : 9643-182\n"
     ]
    }
   ],
   "source": [
    "for key,value in student.items():\n",
    "  print(key,':',value)"
   ]
  },
  {
   "cell_type": "code",
   "execution_count": 71,
   "metadata": {
    "colab": {
     "base_uri": "https://localhost:8080/"
    },
    "executionInfo": {
     "elapsed": 459,
     "status": "ok",
     "timestamp": 1627907629936,
     "user": {
      "displayName": "Ananay Srivastava",
      "photoUrl": "https://lh3.googleusercontent.com/a-/AOh14GgjP5G5QyMNtzBl40gZxDlWSXchndUikF0sOo_1p5Y=s64",
      "userId": "07822023531696515494"
     },
     "user_tz": -330
    },
    "id": "p_I6Vf7Ir0ou",
    "outputId": "e1914473-e7ad-4a03-a68b-c661d99ac962"
   },
   "outputs": [
    {
     "name": "stdout",
     "output_type": "stream",
     "text": [
      "True\n",
      "False\n"
     ]
    }
   ],
   "source": [
    "a = 'hello world'\n",
    "b='hello world'\n",
    "print(a == b)\n",
    "print(a is b)"
   ]
  },
  {
   "cell_type": "code",
   "execution_count": 72,
   "metadata": {
    "colab": {
     "base_uri": "https://localhost:8080/"
    },
    "executionInfo": {
     "elapsed": 453,
     "status": "ok",
     "timestamp": 1627907647029,
     "user": {
      "displayName": "Ananay Srivastava",
      "photoUrl": "https://lh3.googleusercontent.com/a-/AOh14GgjP5G5QyMNtzBl40gZxDlWSXchndUikF0sOo_1p5Y=s64",
      "userId": "07822023531696515494"
     },
     "user_tz": -330
    },
    "id": "bXKNTmY82xB7",
    "outputId": "35554ce2-8265-4965-d308-58beed606ab2"
   },
   "outputs": [
    {
     "name": "stdout",
     "output_type": "stream",
     "text": [
      "140212575985072\n",
      "140212575982192\n"
     ]
    }
   ],
   "source": [
    "print(id(a))\n",
    "print(id(b)) # a and b have different ids"
   ]
  },
  {
   "cell_type": "code",
   "execution_count": 73,
   "metadata": {
    "colab": {
     "base_uri": "https://localhost:8080/"
    },
    "executionInfo": {
     "elapsed": 459,
     "status": "ok",
     "timestamp": 1627907674872,
     "user": {
      "displayName": "Ananay Srivastava",
      "photoUrl": "https://lh3.googleusercontent.com/a-/AOh14GgjP5G5QyMNtzBl40gZxDlWSXchndUikF0sOo_1p5Y=s64",
      "userId": "07822023531696515494"
     },
     "user_tz": -330
    },
    "id": "fjUGKJPe2Oo3",
    "outputId": "b36ad46d-8b69-4d2e-cf54-78e9200ef284"
   },
   "outputs": [
    {
     "name": "stdout",
     "output_type": "stream",
     "text": [
      "True\n",
      "True\n"
     ]
    }
   ],
   "source": [
    "a = 'hello world'\n",
    "b = a\n",
    "print(a == b)\n",
    "print(a is b)"
   ]
  },
  {
   "cell_type": "code",
   "execution_count": 74,
   "metadata": {
    "colab": {
     "base_uri": "https://localhost:8080/"
    },
    "executionInfo": {
     "elapsed": 449,
     "status": "ok",
     "timestamp": 1627907701253,
     "user": {
      "displayName": "Ananay Srivastava",
      "photoUrl": "https://lh3.googleusercontent.com/a-/AOh14GgjP5G5QyMNtzBl40gZxDlWSXchndUikF0sOo_1p5Y=s64",
      "userId": "07822023531696515494"
     },
     "user_tz": -330
    },
    "id": "w0JqAntF28bL",
    "outputId": "ac205067-f345-4a6d-9945-93411abcafd1"
   },
   "outputs": [
    {
     "name": "stdout",
     "output_type": "stream",
     "text": [
      "140212576952368\n",
      "140212576952368\n"
     ]
    }
   ],
   "source": [
    "print(id(a))\n",
    "print(id(b)) # a and b have same ids"
   ]
  },
  {
   "cell_type": "code",
   "execution_count": 70,
   "metadata": {
    "colab": {
     "base_uri": "https://localhost:8080/"
    },
    "executionInfo": {
     "elapsed": 497,
     "status": "ok",
     "timestamp": 1627907601304,
     "user": {
      "displayName": "Ananay Srivastava",
      "photoUrl": "https://lh3.googleusercontent.com/a-/AOh14GgjP5G5QyMNtzBl40gZxDlWSXchndUikF0sOo_1p5Y=s64",
      "userId": "07822023531696515494"
     },
     "user_tz": -330
    },
    "id": "WDzsX0A-2aFP",
    "outputId": "fe27585d-e8c0-4928-fbef-3d19c7153c8f"
   },
   "outputs": [
    {
     "name": "stdout",
     "output_type": "stream",
     "text": [
      "hello\n"
     ]
    }
   ],
   "source": [
    "flag = False\n",
    "if not flag:\n",
    "  print('hello')\n",
    "else:\n",
    "  print('bye')  "
   ]
  },
  {
   "cell_type": "code",
   "execution_count": 75,
   "metadata": {
    "colab": {
     "base_uri": "https://localhost:8080/"
    },
    "executionInfo": {
     "elapsed": 448,
     "status": "ok",
     "timestamp": 1627907791536,
     "user": {
      "displayName": "Ananay Srivastava",
      "photoUrl": "https://lh3.googleusercontent.com/a-/AOh14GgjP5G5QyMNtzBl40gZxDlWSXchndUikF0sOo_1p5Y=s64",
      "userId": "07822023531696515494"
     },
     "user_tz": -330
    },
    "id": "Z4knjb6N2q70",
    "outputId": "52d7050c-ff34-4e85-9609-1eede90d8c27"
   },
   "outputs": [
    {
     "name": "stdout",
     "output_type": "stream",
     "text": [
      "False\n"
     ]
    }
   ],
   "source": [
    "dict = {} # empty dictionary\n",
    "if dict:\n",
    "  print('True')\n",
    "else:\n",
    "  print('False')"
   ]
  },
  {
   "cell_type": "code",
   "execution_count": 76,
   "metadata": {
    "executionInfo": {
     "elapsed": 464,
     "status": "ok",
     "timestamp": 1627908463980,
     "user": {
      "displayName": "Ananay Srivastava",
      "photoUrl": "https://lh3.googleusercontent.com/a-/AOh14GgjP5G5QyMNtzBl40gZxDlWSXchndUikF0sOo_1p5Y=s64",
      "userId": "07822023531696515494"
     },
     "user_tz": -330
    },
    "id": "d8j2gqJq3ZX_"
   },
   "outputs": [],
   "source": [
    "# loops"
   ]
  },
  {
   "cell_type": "code",
   "execution_count": 77,
   "metadata": {
    "executionInfo": {
     "elapsed": 464,
     "status": "ok",
     "timestamp": 1627908485399,
     "user": {
      "displayName": "Ananay Srivastava",
      "photoUrl": "https://lh3.googleusercontent.com/a-/AOh14GgjP5G5QyMNtzBl40gZxDlWSXchndUikF0sOo_1p5Y=s64",
      "userId": "07822023531696515494"
     },
     "user_tz": -330
    },
    "id": "8FTAe-6559jU"
   },
   "outputs": [],
   "source": [
    "nums = [2,3,1,5,4]"
   ]
  },
  {
   "cell_type": "code",
   "execution_count": 78,
   "metadata": {
    "colab": {
     "base_uri": "https://localhost:8080/"
    },
    "executionInfo": {
     "elapsed": 473,
     "status": "ok",
     "timestamp": 1627908498163,
     "user": {
      "displayName": "Ananay Srivastava",
      "photoUrl": "https://lh3.googleusercontent.com/a-/AOh14GgjP5G5QyMNtzBl40gZxDlWSXchndUikF0sOo_1p5Y=s64",
      "userId": "07822023531696515494"
     },
     "user_tz": -330
    },
    "id": "Af2a2N9N6CyE",
    "outputId": "278aee43-4787-48b0-ea76-d49e0b6eebe0"
   },
   "outputs": [
    {
     "name": "stdout",
     "output_type": "stream",
     "text": [
      "2\n",
      "3\n",
      "1\n",
      "5\n",
      "4\n"
     ]
    }
   ],
   "source": [
    "for num in nums:\n",
    "  print(num)"
   ]
  },
  {
   "cell_type": "code",
   "execution_count": 79,
   "metadata": {
    "colab": {
     "base_uri": "https://localhost:8080/"
    },
    "executionInfo": {
     "elapsed": 632,
     "status": "ok",
     "timestamp": 1627908515509,
     "user": {
      "displayName": "Ananay Srivastava",
      "photoUrl": "https://lh3.googleusercontent.com/a-/AOh14GgjP5G5QyMNtzBl40gZxDlWSXchndUikF0sOo_1p5Y=s64",
      "userId": "07822023531696515494"
     },
     "user_tz": -330
    },
    "id": "zNit5CEo6F3e",
    "outputId": "b77f8bdf-2d0e-4410-f528-0d77b8ee409c"
   },
   "outputs": [
    {
     "name": "stdout",
     "output_type": "stream",
     "text": [
      "0\n",
      "1\n",
      "2\n",
      "3\n",
      "4\n",
      "5\n",
      "6\n",
      "7\n",
      "8\n",
      "9\n"
     ]
    }
   ],
   "source": [
    "for i in range(10):\n",
    "  print(i)"
   ]
  },
  {
   "cell_type": "code",
   "execution_count": 80,
   "metadata": {
    "colab": {
     "base_uri": "https://localhost:8080/"
    },
    "executionInfo": {
     "elapsed": 7,
     "status": "ok",
     "timestamp": 1627908532110,
     "user": {
      "displayName": "Ananay Srivastava",
      "photoUrl": "https://lh3.googleusercontent.com/a-/AOh14GgjP5G5QyMNtzBl40gZxDlWSXchndUikF0sOo_1p5Y=s64",
      "userId": "07822023531696515494"
     },
     "user_tz": -330
    },
    "id": "4KVwh9Hz6J5x",
    "outputId": "4612c245-1b70-4c54-e516-56e868d11f5d"
   },
   "outputs": [
    {
     "name": "stdout",
     "output_type": "stream",
     "text": [
      "5\n",
      "6\n",
      "7\n",
      "8\n",
      "9\n"
     ]
    }
   ],
   "source": [
    "for i in range(5,10):\n",
    "  print(i)"
   ]
  },
  {
   "cell_type": "code",
   "execution_count": 81,
   "metadata": {
    "colab": {
     "base_uri": "https://localhost:8080/"
    },
    "executionInfo": {
     "elapsed": 9,
     "status": "ok",
     "timestamp": 1627908587555,
     "user": {
      "displayName": "Ananay Srivastava",
      "photoUrl": "https://lh3.googleusercontent.com/a-/AOh14GgjP5G5QyMNtzBl40gZxDlWSXchndUikF0sOo_1p5Y=s64",
      "userId": "07822023531696515494"
     },
     "user_tz": -330
    },
    "id": "qPOs66It6OIK",
    "outputId": "cc8d06e8-3ff2-460e-bff4-4746b0bef6d2"
   },
   "outputs": [
    {
     "name": "stdout",
     "output_type": "stream",
     "text": [
      "2 a\n",
      "2 b\n",
      "2 c\n",
      "3 a\n",
      "3 b\n",
      "3 c\n",
      "1 a\n",
      "1 b\n",
      "1 c\n",
      "5 a\n",
      "5 b\n",
      "5 c\n",
      "4 a\n",
      "4 b\n",
      "4 c\n"
     ]
    }
   ],
   "source": [
    "word = 'abc'\n",
    "\n",
    "for num in nums:\n",
    "  for letter in word:\n",
    "    print(num,letter)"
   ]
  },
  {
   "cell_type": "code",
   "execution_count": 83,
   "metadata": {
    "colab": {
     "base_uri": "https://localhost:8080/"
    },
    "executionInfo": {
     "elapsed": 432,
     "status": "ok",
     "timestamp": 1627908668810,
     "user": {
      "displayName": "Ananay Srivastava",
      "photoUrl": "https://lh3.googleusercontent.com/a-/AOh14GgjP5G5QyMNtzBl40gZxDlWSXchndUikF0sOo_1p5Y=s64",
      "userId": "07822023531696515494"
     },
     "user_tz": -330
    },
    "id": "DUoeM3ja6byG",
    "outputId": "2730ddba-d111-423a-ec00-55d56db556c2"
   },
   "outputs": [
    {
     "name": "stdout",
     "output_type": "stream",
     "text": [
      "0\n",
      "1\n",
      "2\n",
      "3\n",
      "4\n",
      "5\n",
      "6\n",
      "7\n",
      "8\n",
      "9\n"
     ]
    }
   ],
   "source": [
    "i=0\n",
    "while i<10:\n",
    "  print(i)\n",
    "  i+=1 #i++ doesn't exist in python"
   ]
  },
  {
   "cell_type": "code",
   "execution_count": null,
   "metadata": {
    "id": "tb4LbBzq6qgm"
   },
   "outputs": [],
   "source": []
  }
 ],
 "metadata": {
  "colab": {
   "authorship_tag": "ABX9TyPVkp7EO6Tel6fyNkz7Q+td",
   "collapsed_sections": [],
   "name": "python-practice2.ipynb",
   "provenance": []
  },
  "kernelspec": {
   "display_name": "Python 3 (ipykernel)",
   "language": "python",
   "name": "python3"
  },
  "language_info": {
   "codemirror_mode": {
    "name": "ipython",
    "version": 3
   },
   "file_extension": ".py",
   "mimetype": "text/x-python",
   "name": "python",
   "nbconvert_exporter": "python",
   "pygments_lexer": "ipython3",
   "version": "3.9.6"
  }
 },
 "nbformat": 4,
 "nbformat_minor": 1
}
