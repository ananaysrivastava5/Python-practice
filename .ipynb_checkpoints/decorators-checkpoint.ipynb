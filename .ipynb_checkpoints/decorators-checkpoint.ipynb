{
 "cells": [
  {
   "cell_type": "code",
   "execution_count": 1,
   "id": "5c68dc44",
   "metadata": {},
   "outputs": [
    {
     "name": "stdout",
     "output_type": "stream",
     "text": [
      "Hi\n"
     ]
    }
   ],
   "source": [
    "def outer_function():\n",
    "    msg = 'Hi'\n",
    "    \n",
    "    def inner_function():\n",
    "        print(msg)\n",
    "        \n",
    "    return inner_function()\n",
    "\n",
    "outer_function()"
   ]
  },
  {
   "cell_type": "code",
   "execution_count": 2,
   "id": "b49eae4c",
   "metadata": {},
   "outputs": [
    {
     "data": {
      "text/plain": [
       "<function __main__.outer_function.<locals>.inner_function()>"
      ]
     },
     "execution_count": 2,
     "metadata": {},
     "output_type": "execute_result"
    }
   ],
   "source": [
    "def outer_function():\n",
    "    msg = 'Hi'\n",
    "    \n",
    "    def inner_function():\n",
    "        print(msg)\n",
    "        \n",
    "    return inner_function # notice the difference\n",
    "\n",
    "outer_function()"
   ]
  },
  {
   "cell_type": "code",
   "execution_count": 5,
   "id": "96503068",
   "metadata": {},
   "outputs": [
    {
     "name": "stdout",
     "output_type": "stream",
     "text": [
      "Hi\n",
      "Hi\n"
     ]
    }
   ],
   "source": [
    "def outer_function():\n",
    "    msg = 'Hi'\n",
    "    \n",
    "    def inner_function():\n",
    "        print(msg)\n",
    "        \n",
    "    return inner_function\n",
    "\n",
    "func = outer_function()\n",
    "func()\n",
    "func()"
   ]
  },
  {
   "cell_type": "code",
   "execution_count": 6,
   "id": "8507e80d",
   "metadata": {},
   "outputs": [
    {
     "name": "stdout",
     "output_type": "stream",
     "text": [
      "Hi\n",
      "Bye\n"
     ]
    }
   ],
   "source": [
    "def outer_function(msg):\n",
    "\n",
    "    def inner_function():\n",
    "        print(msg)\n",
    "        \n",
    "    return inner_function\n",
    "\n",
    "hi_func = outer_function('Hi')\n",
    "bye_func = outer_function('Bye')\n",
    "hi_func()\n",
    "bye_func()"
   ]
  },
  {
   "cell_type": "code",
   "execution_count": 8,
   "id": "c8acc38c",
   "metadata": {},
   "outputs": [
    {
     "name": "stdout",
     "output_type": "stream",
     "text": [
      "Display function ran\n"
     ]
    }
   ],
   "source": [
    "# decorators\n",
    "\n",
    "def decorator_function(original_function):\n",
    "    def wrapper_function():\n",
    "        return original_function()\n",
    "    return wrapper_function\n",
    "\n",
    "def display():\n",
    "    print('Display function ran')\n",
    "    \n",
    "display = decorator_function(display)\n",
    "\n",
    "display()"
   ]
  },
  {
   "cell_type": "code",
   "execution_count": 10,
   "id": "54400e0b",
   "metadata": {},
   "outputs": [
    {
     "name": "stdout",
     "output_type": "stream",
     "text": [
      "Display function ran\n"
     ]
    }
   ],
   "source": [
    "# proper use of decorators\n",
    "\n",
    "def decorator_function(original_function):\n",
    "    def wrapper_function():\n",
    "        return original_function()\n",
    "    return wrapper_function\n",
    "\n",
    "@decorator_function\n",
    "def display():\n",
    "    print('Display function ran')\n",
    "    \n",
    "display()    "
   ]
  },
  {
   "cell_type": "code",
   "execution_count": 11,
   "id": "6ee8f0b6",
   "metadata": {},
   "outputs": [
    {
     "ename": "TypeError",
     "evalue": "wrapper_function() takes 0 positional arguments but 2 were given",
     "output_type": "error",
     "traceback": [
      "\u001b[1;31m---------------------------------------------------------------------------\u001b[0m",
      "\u001b[1;31mTypeError\u001b[0m                                 Traceback (most recent call last)",
      "\u001b[1;32m~\\AppData\\Local\\Temp/ipykernel_9700/1298061578.py\u001b[0m in \u001b[0;36m<module>\u001b[1;34m\u001b[0m\n\u001b[0;32m      8\u001b[0m     \u001b[0mprint\u001b[0m\u001b[1;33m(\u001b[0m\u001b[1;34mf'My name is {name} and I am {age} years old'\u001b[0m\u001b[1;33m)\u001b[0m\u001b[1;33m\u001b[0m\u001b[1;33m\u001b[0m\u001b[0m\n\u001b[0;32m      9\u001b[0m \u001b[1;33m\u001b[0m\u001b[0m\n\u001b[1;32m---> 10\u001b[1;33m \u001b[0mdisplay_info\u001b[0m\u001b[1;33m(\u001b[0m\u001b[1;34m'Ananay'\u001b[0m\u001b[1;33m,\u001b[0m\u001b[1;36m21\u001b[0m\u001b[1;33m)\u001b[0m\u001b[1;33m\u001b[0m\u001b[1;33m\u001b[0m\u001b[0m\n\u001b[0m",
      "\u001b[1;31mTypeError\u001b[0m: wrapper_function() takes 0 positional arguments but 2 were given"
     ]
    }
   ],
   "source": [
    "def decorator_function(original_function):\n",
    "    def wrapper_function():\n",
    "        return original_function()\n",
    "    return wrapper_function\n",
    "\n",
    "@decorator_function\n",
    "def display_info(name,age):\n",
    "    print(f'My name is {name} and I am {age} years old')\n",
    "    \n",
    "display_info('Ananay',21)    "
   ]
  },
  {
   "cell_type": "code",
   "execution_count": 13,
   "id": "dedad583",
   "metadata": {},
   "outputs": [
    {
     "name": "stdout",
     "output_type": "stream",
     "text": [
      "My name is Ananay and I am 21 years old.\n"
     ]
    }
   ],
   "source": [
    "def decorator_function(original_function):\n",
    "    def wrapper_function(*args,**kwargs):\n",
    "        return original_function(*args,**kwargs)\n",
    "    return wrapper_function\n",
    "\n",
    "@decorator_function\n",
    "def display_info(name,age):\n",
    "    print(f'My name is {name} and I am {age} years old.')\n",
    "    \n",
    "display_info('Ananay',21)   "
   ]
  },
  {
   "cell_type": "code",
   "execution_count": null,
   "id": "e31d629c",
   "metadata": {},
   "outputs": [],
   "source": []
  },
  {
   "cell_type": "code",
   "execution_count": null,
   "id": "a018b53a",
   "metadata": {},
   "outputs": [],
   "source": []
  },
  {
   "cell_type": "code",
   "execution_count": 16,
   "id": "6cfb344a",
   "metadata": {},
   "outputs": [
    {
     "name": "stdout",
     "output_type": "stream",
     "text": [
      "My name is Ananay and I am 21 years old.\n"
     ]
    }
   ],
   "source": [
    "# class decorators\n",
    "\n",
    "class decorator_class(object):\n",
    "    \n",
    "    def __init__(self,original_function):\n",
    "        self.original_function = original_function\n",
    "        \n",
    "    def __call__(self,*args,**kwargs):\n",
    "        return self.original_function(*args,**kwargs)\n",
    "    \n",
    "\n",
    "@decorator_class\n",
    "def display_info(name,age):\n",
    "    print(f'My name is {name} and I am {age} years old.')\n",
    "    \n",
    "display_info('Ananay',21)     "
   ]
  },
  {
   "cell_type": "code",
   "execution_count": null,
   "id": "55ead2f2",
   "metadata": {},
   "outputs": [],
   "source": []
  },
  {
   "cell_type": "code",
   "execution_count": null,
   "id": "e7de6b07",
   "metadata": {},
   "outputs": [],
   "source": []
  },
  {
   "cell_type": "code",
   "execution_count": 17,
   "id": "6152a8b9",
   "metadata": {},
   "outputs": [
    {
     "name": "stdout",
     "output_type": "stream",
     "text": [
      "display_info ran with arguments (Tom, 22)\n",
      "display_info ran in: 1.0075523853302002 sec\n"
     ]
    }
   ],
   "source": [
    "from functools import wraps\n",
    "\n",
    "\n",
    "def my_logger(orig_func):\n",
    "    import logging\n",
    "    logging.basicConfig(filename='{}.log'.format(orig_func.__name__), level=logging.INFO)\n",
    "\n",
    "    @wraps(orig_func)\n",
    "    def wrapper(*args, **kwargs):\n",
    "        logging.info(\n",
    "            'Ran with args: {}, and kwargs: {}'.format(args, kwargs))\n",
    "        return orig_func(*args, **kwargs)\n",
    "\n",
    "    return wrapper\n",
    "\n",
    "\n",
    "def my_timer(orig_func):\n",
    "    import time\n",
    "\n",
    "    @wraps(orig_func)\n",
    "    def wrapper(*args, **kwargs):\n",
    "        t1 = time.time()\n",
    "        result = orig_func(*args, **kwargs)\n",
    "        t2 = time.time() - t1\n",
    "        print('{} ran in: {} sec'.format(orig_func.__name__, t2))\n",
    "        return result\n",
    "\n",
    "    return wrapper\n",
    "\n",
    "import time\n",
    "\n",
    "\n",
    "@my_logger\n",
    "@my_timer\n",
    "def display_info(name, age):\n",
    "    time.sleep(1)\n",
    "    print('display_info ran with arguments ({}, {})'.format(name, age))\n",
    "\n",
    "display_info('Tom', 22)"
   ]
  },
  {
   "cell_type": "code",
   "execution_count": null,
   "id": "79df7fe0",
   "metadata": {},
   "outputs": [],
   "source": []
  }
 ],
 "metadata": {
  "kernelspec": {
   "display_name": "Python 3 (ipykernel)",
   "language": "python",
   "name": "python3"
  },
  "language_info": {
   "codemirror_mode": {
    "name": "ipython",
    "version": 3
   },
   "file_extension": ".py",
   "mimetype": "text/x-python",
   "name": "python",
   "nbconvert_exporter": "python",
   "pygments_lexer": "ipython3",
   "version": "3.9.6"
  }
 },
 "nbformat": 4,
 "nbformat_minor": 5
}
