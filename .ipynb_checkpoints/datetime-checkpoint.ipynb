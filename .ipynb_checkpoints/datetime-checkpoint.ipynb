{
 "cells": [
  {
   "cell_type": "code",
   "execution_count": 1,
   "id": "0c207530",
   "metadata": {},
   "outputs": [],
   "source": [
    "import datetime"
   ]
  },
  {
   "cell_type": "code",
   "execution_count": 7,
   "id": "c95f5d94",
   "metadata": {},
   "outputs": [
    {
     "name": "stdout",
     "output_type": "stream",
     "text": [
      "2019-04-10\n",
      "10\n",
      "4\n"
     ]
    }
   ],
   "source": [
    "# creating a date variable\n",
    "d = datetime.date(2019,4,10)\n",
    "print(d)\n",
    "print(d.day)\n",
    "print(d.month)"
   ]
  },
  {
   "cell_type": "code",
   "execution_count": 5,
   "id": "75c04efc",
   "metadata": {},
   "outputs": [
    {
     "name": "stdout",
     "output_type": "stream",
     "text": [
      "2021-08-14\n",
      "14\n"
     ]
    }
   ],
   "source": [
    "# today's date\n",
    "tday = datetime.date.today()\n",
    "print(tday)\n",
    "print(tday.day)"
   ]
  },
  {
   "cell_type": "code",
   "execution_count": 9,
   "id": "bd0fdb3a",
   "metadata": {},
   "outputs": [
    {
     "name": "stdout",
     "output_type": "stream",
     "text": [
      "5\n"
     ]
    }
   ],
   "source": [
    "print(tday.weekday()) # today is saturday"
   ]
  },
  {
   "cell_type": "code",
   "execution_count": 11,
   "id": "9286cd3e",
   "metadata": {},
   "outputs": [
    {
     "name": "stdout",
     "output_type": "stream",
     "text": [
      "6\n"
     ]
    }
   ],
   "source": [
    "print(tday.isoweekday()) # today is saturday"
   ]
  },
  {
   "cell_type": "raw",
   "id": "1e94bc73",
   "metadata": {},
   "source": [
    "NOTE-                                                                                                                   weekday(): monday-0 sunday-6                                                                                       isoweekday(): monday-1 sunday-7"
   ]
  },
  {
   "cell_type": "code",
   "execution_count": 14,
   "id": "e4f6e181",
   "metadata": {},
   "outputs": [
    {
     "name": "stdout",
     "output_type": "stream",
     "text": [
      "2021-08-21\n",
      "2021-08-07\n"
     ]
    }
   ],
   "source": [
    "tdelta = datetime.timedelta(days=7)\n",
    "print(tday + tdelta) # date 7 days from today\n",
    "print(tday - tdelta) # date 7 days before "
   ]
  },
  {
   "cell_type": "code",
   "execution_count": 16,
   "id": "e0662d8c",
   "metadata": {},
   "outputs": [
    {
     "name": "stdout",
     "output_type": "stream",
     "text": [
      "289 days, 0:00:00\n"
     ]
    }
   ],
   "source": [
    "birthday = datetime.date(2022,5,30)\n",
    "\n",
    "till_bday = birthday - tday\n",
    "print(till_bday)"
   ]
  },
  {
   "cell_type": "code",
   "execution_count": 20,
   "id": "3ea8ace8",
   "metadata": {},
   "outputs": [
    {
     "name": "stdout",
     "output_type": "stream",
     "text": [
      "Days: 289\n",
      "Seconds: 24969600.0\n"
     ]
    }
   ],
   "source": [
    "print('Days:',till_bday.days)\n",
    "print('Seconds:',till_bday.total_seconds())"
   ]
  },
  {
   "cell_type": "code",
   "execution_count": 22,
   "id": "3b606be1",
   "metadata": {},
   "outputs": [
    {
     "name": "stdout",
     "output_type": "stream",
     "text": [
      "11:11:33\n"
     ]
    }
   ],
   "source": [
    "t = datetime.time(11,11,33)\n",
    "print(t)"
   ]
  },
  {
   "cell_type": "code",
   "execution_count": 24,
   "id": "6d709890",
   "metadata": {},
   "outputs": [
    {
     "name": "stdout",
     "output_type": "stream",
     "text": [
      "11\n",
      "33\n"
     ]
    }
   ],
   "source": [
    "print(t.hour)\n",
    "print(t.second)"
   ]
  },
  {
   "cell_type": "code",
   "execution_count": 25,
   "id": "f17215ec",
   "metadata": {},
   "outputs": [
    {
     "name": "stdout",
     "output_type": "stream",
     "text": [
      "2019-04-10 11:11:33\n"
     ]
    }
   ],
   "source": [
    "td = datetime.datetime(2019,4,10,11,11,33)\n",
    "print(td)"
   ]
  },
  {
   "cell_type": "code",
   "execution_count": 27,
   "id": "5f556a8f",
   "metadata": {},
   "outputs": [
    {
     "name": "stdout",
     "output_type": "stream",
     "text": [
      "2019-04-10\n",
      "11:11:33\n",
      "11\n"
     ]
    }
   ],
   "source": [
    "print(td.date())\n",
    "print(td.time())\n",
    "print(td.hour)"
   ]
  },
  {
   "cell_type": "code",
   "execution_count": 28,
   "id": "52e2e213",
   "metadata": {},
   "outputs": [
    {
     "name": "stdout",
     "output_type": "stream",
     "text": [
      "2019-04-10 23:11:33\n"
     ]
    }
   ],
   "source": [
    "tdelta = datetime.timedelta(hours=12)\n",
    "print(td + tdelta)"
   ]
  },
  {
   "cell_type": "code",
   "execution_count": 29,
   "id": "54dadeb3",
   "metadata": {},
   "outputs": [
    {
     "name": "stdout",
     "output_type": "stream",
     "text": [
      "2021-08-14 03:50:11.405456\n",
      "2021-08-14 03:50:11.405456\n",
      "2021-08-13 22:20:11.405456\n"
     ]
    }
   ],
   "source": [
    "print(datetime.datetime.today())\n",
    "print(datetime.datetime.now())\n",
    "print(datetime.datetime.utcnow())"
   ]
  },
  {
   "cell_type": "code",
   "execution_count": 30,
   "id": "3fe0834b",
   "metadata": {},
   "outputs": [],
   "source": [
    "import pytz"
   ]
  },
  {
   "cell_type": "code",
   "execution_count": 31,
   "id": "4a930320",
   "metadata": {},
   "outputs": [],
   "source": [
    "# study about utc "
   ]
  },
  {
   "cell_type": "code",
   "execution_count": null,
   "id": "341a0509",
   "metadata": {},
   "outputs": [],
   "source": []
  }
 ],
 "metadata": {
  "kernelspec": {
   "display_name": "Python 3 (ipykernel)",
   "language": "python",
   "name": "python3"
  },
  "language_info": {
   "codemirror_mode": {
    "name": "ipython",
    "version": 3
   },
   "file_extension": ".py",
   "mimetype": "text/x-python",
   "name": "python",
   "nbconvert_exporter": "python",
   "pygments_lexer": "ipython3",
   "version": "3.9.6"
  }
 },
 "nbformat": 4,
 "nbformat_minor": 5
}
