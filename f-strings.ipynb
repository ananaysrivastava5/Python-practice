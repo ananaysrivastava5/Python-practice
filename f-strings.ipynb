{
 "cells": [
  {
   "cell_type": "code",
   "execution_count": 1,
   "id": "d2eed70f",
   "metadata": {},
   "outputs": [],
   "source": [
    "# f-strings"
   ]
  },
  {
   "cell_type": "code",
   "execution_count": 2,
   "id": "6c6f237a",
   "metadata": {},
   "outputs": [],
   "source": [
    "first_name = 'Ananay'\n",
    "last_name = 'Srivastava'"
   ]
  },
  {
   "cell_type": "code",
   "execution_count": 3,
   "id": "2ddfae67",
   "metadata": {},
   "outputs": [
    {
     "name": "stdout",
     "output_type": "stream",
     "text": [
      "My name is Ananay Srivastava\n"
     ]
    }
   ],
   "source": [
    "# normal strings\n",
    "sentence = 'My name is {} {}'.format(first_name, last_name)\n",
    "print(sentence)"
   ]
  },
  {
   "cell_type": "code",
   "execution_count": 6,
   "id": "1b4ba967",
   "metadata": {},
   "outputs": [
    {
     "name": "stdout",
     "output_type": "stream",
     "text": [
      "My name is Ananay Srivastava\n",
      "My name is ANANAY SRIVASTAVA\n"
     ]
    }
   ],
   "source": [
    "# f-strings \n",
    "sentence = f'My name is {first_name} {last_name}'\n",
    "print(sentence)\n",
    "\n",
    "sentence = f'My name is {first_name.upper()} {last_name.upper()}'\n",
    "print(sentence)"
   ]
  },
  {
   "cell_type": "code",
   "execution_count": 8,
   "id": "74223d3d",
   "metadata": {},
   "outputs": [],
   "source": [
    "intro = {'name':'Ananay','age':21}"
   ]
  },
  {
   "cell_type": "code",
   "execution_count": 9,
   "id": "5ed3df94",
   "metadata": {},
   "outputs": [
    {
     "name": "stdout",
     "output_type": "stream",
     "text": [
      "My name is Ananay and I am 21 years old\n"
     ]
    }
   ],
   "source": [
    "# normal strings\n",
    "sentence = 'My name is {} and I am {} years old'.format(intro['name'],intro['age'])\n",
    "print(sentence)"
   ]
  },
  {
   "cell_type": "code",
   "execution_count": 10,
   "id": "5a5b0807",
   "metadata": {},
   "outputs": [
    {
     "ename": "SyntaxError",
     "evalue": "f-string: unmatched '[' (Temp/ipykernel_1836/3713448740.py, line 2)",
     "output_type": "error",
     "traceback": [
      "\u001b[1;36m  File \u001b[1;32m\"C:\\Users\\anana\\AppData\\Local\\Temp/ipykernel_1836/3713448740.py\"\u001b[1;36m, line \u001b[1;32m2\u001b[0m\n\u001b[1;33m    sentence = f'My name is {intro['name']} and I am {intro['age']} years old'\u001b[0m\n\u001b[1;37m                                    ^\u001b[0m\n\u001b[1;31mSyntaxError\u001b[0m\u001b[1;31m:\u001b[0m f-string: unmatched '['\n"
     ]
    }
   ],
   "source": [
    "# f-strings\n",
    "sentence = f'My name is {intro['name']} and I am {intro['age']} years old'\n",
    "print(sentence)\n",
    "# error because single quote(') problem"
   ]
  },
  {
   "cell_type": "code",
   "execution_count": 11,
   "id": "63168ca4",
   "metadata": {},
   "outputs": [
    {
     "name": "stdout",
     "output_type": "stream",
     "text": [
      "My name is Ananay and I am 21 years old\n"
     ]
    }
   ],
   "source": [
    "# f-strings\n",
    "sentence = f\"My name is {intro['name']} and I am {intro['age']} years old\"\n",
    "print(sentence)"
   ]
  },
  {
   "cell_type": "code",
   "execution_count": 12,
   "id": "b1ece3da",
   "metadata": {},
   "outputs": [
    {
     "name": "stdout",
     "output_type": "stream",
     "text": [
      "4 times 11 is 44\n"
     ]
    }
   ],
   "source": [
    "calculations = f'4 times 11 is {4*11}'\n",
    "print(calculations)"
   ]
  },
  {
   "cell_type": "code",
   "execution_count": 13,
   "id": "c6a2cc48",
   "metadata": {},
   "outputs": [
    {
     "name": "stdout",
     "output_type": "stream",
     "text": [
      "value of i is 1\n",
      "value of i is 2\n",
      "value of i is 3\n",
      "value of i is 4\n",
      "value of i is 5\n",
      "value of i is 6\n",
      "value of i is 7\n",
      "value of i is 8\n",
      "value of i is 9\n",
      "value of i is 10\n"
     ]
    }
   ],
   "source": [
    "for i in range(1,11):\n",
    "    sentence = f'value of i is {i}'\n",
    "    print(sentence)"
   ]
  },
  {
   "cell_type": "code",
   "execution_count": 14,
   "id": "8c76ba6a",
   "metadata": {},
   "outputs": [
    {
     "name": "stdout",
     "output_type": "stream",
     "text": [
      "value of i is 01\n",
      "value of i is 02\n",
      "value of i is 03\n",
      "value of i is 04\n",
      "value of i is 05\n",
      "value of i is 06\n",
      "value of i is 07\n",
      "value of i is 08\n",
      "value of i is 09\n",
      "value of i is 10\n"
     ]
    }
   ],
   "source": [
    "for i in range(1,11):\n",
    "    sentence = f'value of i is {i:02}'\n",
    "    print(sentence)"
   ]
  },
  {
   "cell_type": "code",
   "execution_count": 18,
   "id": "f7a841b7",
   "metadata": {},
   "outputs": [
    {
     "name": "stdout",
     "output_type": "stream",
     "text": [
      "Value of i is 375.18294522346\n"
     ]
    }
   ],
   "source": [
    "i = 375.18294522346\n",
    "sent = f'Value of i is {i}'\n",
    "print(sent)"
   ]
  },
  {
   "cell_type": "code",
   "execution_count": 21,
   "id": "165472f9",
   "metadata": {},
   "outputs": [
    {
     "name": "stdout",
     "output_type": "stream",
     "text": [
      "value of i is 375.183\n"
     ]
    }
   ],
   "source": [
    "sent = f'value of i is {i:.3f}'\n",
    "print(sent)"
   ]
  },
  {
   "cell_type": "code",
   "execution_count": 22,
   "id": "fc10d7bb",
   "metadata": {},
   "outputs": [],
   "source": [
    "from datetime import datetime"
   ]
  },
  {
   "cell_type": "code",
   "execution_count": 23,
   "id": "ff53664a",
   "metadata": {},
   "outputs": [
    {
     "name": "stdout",
     "output_type": "stream",
     "text": [
      "My birthday is 2000-05-30 00:00:00\n"
     ]
    }
   ],
   "source": [
    "birthday = datetime(2000,5,30)\n",
    "sentence = f'My birthday is {birthday}'\n",
    "print(sentence)"
   ]
  },
  {
   "cell_type": "code",
   "execution_count": null,
   "id": "fd2e0dc5",
   "metadata": {},
   "outputs": [],
   "source": []
  }
 ],
 "metadata": {
  "kernelspec": {
   "display_name": "Python 3 (ipykernel)",
   "language": "python",
   "name": "python3"
  },
  "language_info": {
   "codemirror_mode": {
    "name": "ipython",
    "version": 3
   },
   "file_extension": ".py",
   "mimetype": "text/x-python",
   "name": "python",
   "nbconvert_exporter": "python",
   "pygments_lexer": "ipython3",
   "version": "3.9.6"
  }
 },
 "nbformat": 4,
 "nbformat_minor": 5
}
