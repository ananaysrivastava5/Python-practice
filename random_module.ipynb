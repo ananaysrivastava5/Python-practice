{
 "cells": [
  {
   "cell_type": "code",
   "execution_count": 1,
   "id": "c3a93442",
   "metadata": {},
   "outputs": [],
   "source": [
    "import random"
   ]
  },
  {
   "cell_type": "code",
   "execution_count": 3,
   "id": "253ae30d",
   "metadata": {},
   "outputs": [
    {
     "name": "stdout",
     "output_type": "stream",
     "text": [
      "0.7105617698276993\n"
     ]
    }
   ],
   "source": [
    "# random value b/w 0 and 1 (0 inclusive, 1 exclusive)\n",
    "value = random.random()\n",
    "print(value)"
   ]
  },
  {
   "cell_type": "code",
   "execution_count": 5,
   "id": "1081fefb",
   "metadata": {},
   "outputs": [
    {
     "name": "stdout",
     "output_type": "stream",
     "text": [
      "6.9310260038142735\n"
     ]
    }
   ],
   "source": [
    "# rabdom float value b/w a range\n",
    "value = random.uniform(1,10)\n",
    "print(value)"
   ]
  },
  {
   "cell_type": "code",
   "execution_count": 7,
   "id": "c05b17ab",
   "metadata": {},
   "outputs": [
    {
     "name": "stdout",
     "output_type": "stream",
     "text": [
      "6\n"
     ]
    }
   ],
   "source": [
    "# random integer value in a range x to y (both inclusive)\n",
    "value = random.randint(1,6)\n",
    "print(value)"
   ]
  },
  {
   "cell_type": "code",
   "execution_count": 10,
   "id": "bfb94904",
   "metadata": {},
   "outputs": [
    {
     "name": "stdout",
     "output_type": "stream",
     "text": [
      "Howdy Ananay!\n"
     ]
    }
   ],
   "source": [
    "# random value from a list\n",
    "greetings = ['Hi','Yolo','Hello','Hola','Howdy','Namaste']\n",
    "value = random.choice(greetings)\n",
    "print(value,'Ananay!')"
   ]
  },
  {
   "cell_type": "code",
   "execution_count": 12,
   "id": "241d1447",
   "metadata": {},
   "outputs": [
    {
     "name": "stdout",
     "output_type": "stream",
     "text": [
      "['Red', 'Blue', 'Blue', 'Green', 'Red', 'Blue', 'Red', 'Green', 'Blue', 'Red']\n"
     ]
    }
   ],
   "source": [
    "# more than one random value at a time from a list\n",
    "colors = ['Red','Blue','Green']\n",
    "values = random.choices(colors,k=10)\n",
    "print(values)"
   ]
  },
  {
   "cell_type": "code",
   "execution_count": 13,
   "id": "2339c881",
   "metadata": {},
   "outputs": [
    {
     "name": "stdout",
     "output_type": "stream",
     "text": [
      "['Blue', 'Blue', 'Red', 'Blue', 'Red', 'Red', 'Red', 'Red', 'Red', 'Blue']\n"
     ]
    }
   ],
   "source": [
    "# probability weights for every value in list\n",
    "colors = ['Red','Blue','Green']\n",
    "values = random.choices(colors,weights=[18,18,2], k=10) # red has a 18/38 probability of getting selected, blue=18/28, and\n",
    "                                                        # green = 2/38, therefore green will be present in less nos. in values\n",
    "print(values)"
   ]
  },
  {
   "cell_type": "code",
   "execution_count": 17,
   "id": "f44034ea",
   "metadata": {},
   "outputs": [
    {
     "name": "stdout",
     "output_type": "stream",
     "text": [
      "Deck: [32, 37, 5, 14, 49, 51, 36, 28, 2, 23, 30, 7, 33, 16, 3, 1, 35, 11, 6, 29, 17, 20, 44, 15, 34, 47, 4, 46, 12, 38, 45, 26, 50, 48, 52, 41, 42, 18, 9, 8, 25, 39, 10, 22, 24, 40, 43, 21, 19, 31, 27, 13]\n",
      "\n",
      "Random values: [14, 10, 46, 15, 6]\n"
     ]
    }
   ],
   "source": [
    "# getting list of unique random values from a list\n",
    "\n",
    "deck = list(range(1,53))\n",
    "random.shuffle(deck)\n",
    "print('Deck:',deck)\n",
    "values = random.sample(deck,k=5)\n",
    "print()\n",
    "print('Random values:',values)"
   ]
  },
  {
   "cell_type": "code",
   "execution_count": null,
   "id": "f4300cf8",
   "metadata": {},
   "outputs": [],
   "source": []
  }
 ],
 "metadata": {
  "kernelspec": {
   "display_name": "Python 3 (ipykernel)",
   "language": "python",
   "name": "python3"
  },
  "language_info": {
   "codemirror_mode": {
    "name": "ipython",
    "version": 3
   },
   "file_extension": ".py",
   "mimetype": "text/x-python",
   "name": "python",
   "nbconvert_exporter": "python",
   "pygments_lexer": "ipython3",
   "version": "3.9.6"
  }
 },
 "nbformat": 4,
 "nbformat_minor": 5
}
