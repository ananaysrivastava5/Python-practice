{
 "cells": [
  {
   "cell_type": "code",
   "execution_count": 1,
   "id": "e342c972",
   "metadata": {},
   "outputs": [],
   "source": [
    "# Sorting"
   ]
  },
  {
   "cell_type": "code",
   "execution_count": 2,
   "id": "ca461bea",
   "metadata": {},
   "outputs": [],
   "source": [
    "arr = [7,4,1,6,2,5]"
   ]
  },
  {
   "cell_type": "code",
   "execution_count": 3,
   "id": "d6cf11f4",
   "metadata": {},
   "outputs": [
    {
     "name": "stdout",
     "output_type": "stream",
     "text": [
      "[1, 2, 4, 5, 6, 7]\n"
     ]
    }
   ],
   "source": [
    "array = sorted(arr)\n",
    "print(array)"
   ]
  },
  {
   "cell_type": "code",
   "execution_count": 4,
   "id": "410b0b41",
   "metadata": {},
   "outputs": [
    {
     "name": "stdout",
     "output_type": "stream",
     "text": [
      "[1, 2, 4, 5, 6, 7]\n"
     ]
    }
   ],
   "source": [
    "arr.sort()\n",
    "print(arr)"
   ]
  },
  {
   "cell_type": "code",
   "execution_count": 5,
   "id": "5c5b8f58",
   "metadata": {},
   "outputs": [
    {
     "name": "stdout",
     "output_type": "stream",
     "text": [
      "[7, 6, 5, 4, 2, 1]\n"
     ]
    }
   ],
   "source": [
    "arr.sort(reverse=True)\n",
    "print(arr)"
   ]
  },
  {
   "cell_type": "code",
   "execution_count": 6,
   "id": "f769a473",
   "metadata": {},
   "outputs": [
    {
     "name": "stdout",
     "output_type": "stream",
     "text": [
      "['age', 'career', 'name', 'sport']\n"
     ]
    }
   ],
   "source": [
    "dict = {'name': 'Ananay', 'sport':'football', 'age':21, 'career':'developer'}\n",
    "d = sorted(dict)\n",
    "print(d) # sorts w.r.t. to keys"
   ]
  },
  {
   "cell_type": "code",
   "execution_count": 7,
   "id": "9837a3f7",
   "metadata": {},
   "outputs": [
    {
     "name": "stdout",
     "output_type": "stream",
     "text": [
      "[1, 2, -4, -5, -6]\n"
     ]
    }
   ],
   "source": [
    "arr = [-5,-6,1,2,-4]\n",
    "array = sorted(arr, key=abs)\n",
    "print(array)"
   ]
  },
  {
   "cell_type": "code",
   "execution_count": 8,
   "id": "19aa9deb",
   "metadata": {},
   "outputs": [],
   "source": [
    "class Employee():\n",
    "    def __init__(self, name, age, salary):\n",
    "        self.name = name\n",
    "        self.age = age\n",
    "        self.salary = salary\n",
    "        \n",
    "    def __repr__(self):\n",
    "        return '({},{},Rs.{})'.format(self.name, self.age, self.salary)"
   ]
  },
  {
   "cell_type": "code",
   "execution_count": 9,
   "id": "be51bc14",
   "metadata": {},
   "outputs": [],
   "source": [
    "e1 = Employee('Ananay',21,'14L')\n",
    "e2 = Employee('Aman',24,'10L')\n",
    "e3 = Employee('Shivang',22,'28L')"
   ]
  },
  {
   "cell_type": "code",
   "execution_count": 10,
   "id": "23225941",
   "metadata": {},
   "outputs": [],
   "source": [
    "employees = [e1,e2,e3]"
   ]
  },
  {
   "cell_type": "code",
   "execution_count": 11,
   "id": "96f15de1",
   "metadata": {},
   "outputs": [
    {
     "name": "stdout",
     "output_type": "stream",
     "text": [
      "[(Ananay,21,Rs.14L), (Aman,24,Rs.10L), (Shivang,22,Rs.28L)]\n"
     ]
    }
   ],
   "source": [
    "print(employees)"
   ]
  },
  {
   "cell_type": "code",
   "execution_count": 14,
   "id": "3f7f7823",
   "metadata": {},
   "outputs": [
    {
     "ename": "TypeError",
     "evalue": "'<' not supported between instances of 'Employee' and 'Employee'",
     "output_type": "error",
     "traceback": [
      "\u001b[1;31m---------------------------------------------------------------------------\u001b[0m",
      "\u001b[1;31mTypeError\u001b[0m                                 Traceback (most recent call last)",
      "\u001b[1;32m~\\AppData\\Local\\Temp/ipykernel_844/2032063997.py\u001b[0m in \u001b[0;36m<module>\u001b[1;34m\u001b[0m\n\u001b[1;32m----> 1\u001b[1;33m \u001b[0msorted_emp\u001b[0m \u001b[1;33m=\u001b[0m \u001b[0msorted\u001b[0m\u001b[1;33m(\u001b[0m\u001b[0memployees\u001b[0m\u001b[1;33m)\u001b[0m\u001b[1;33m\u001b[0m\u001b[1;33m\u001b[0m\u001b[0m\n\u001b[0m\u001b[0;32m      2\u001b[0m \u001b[0mprint\u001b[0m\u001b[1;33m(\u001b[0m\u001b[0msorted_emp\u001b[0m\u001b[1;33m)\u001b[0m\u001b[1;33m\u001b[0m\u001b[1;33m\u001b[0m\u001b[0m\n",
      "\u001b[1;31mTypeError\u001b[0m: '<' not supported between instances of 'Employee' and 'Employee'"
     ]
    }
   ],
   "source": [
    "sorted_emp = sorted(employees)\n",
    "print(sorted_emp)"
   ]
  },
  {
   "cell_type": "code",
   "execution_count": 16,
   "id": "3f9f9403",
   "metadata": {},
   "outputs": [
    {
     "name": "stdout",
     "output_type": "stream",
     "text": [
      "[(Aman,24,Rs.10L), (Ananay,21,Rs.14L), (Shivang,22,Rs.28L)]\n"
     ]
    }
   ],
   "source": [
    "def emp_sort(emp):\n",
    "    return emp.name\n",
    "\n",
    "sorted_emp = sorted(employees, key=emp_sort)\n",
    "print(sorted_emp)"
   ]
  },
  {
   "cell_type": "code",
   "execution_count": 18,
   "id": "8e9bf07b",
   "metadata": {},
   "outputs": [
    {
     "name": "stdout",
     "output_type": "stream",
     "text": [
      "[(Shivang,22,Rs.28L), (Ananay,21,Rs.14L), (Aman,24,Rs.10L)]\n"
     ]
    }
   ],
   "source": [
    "def emp_sort(emp):\n",
    "    return emp.salary\n",
    "\n",
    "sorted_emp = sorted(employees, key=emp_sort, reverse=True)\n",
    "print(sorted_emp)"
   ]
  },
  {
   "cell_type": "code",
   "execution_count": 19,
   "id": "1217557e",
   "metadata": {},
   "outputs": [
    {
     "name": "stdout",
     "output_type": "stream",
     "text": [
      "[(Aman,24,Rs.10L), (Ananay,21,Rs.14L), (Shivang,22,Rs.28L)]\n"
     ]
    }
   ],
   "source": [
    "# using lambda function to sort\n",
    "sorted_emp = sorted(employees, key=lambda e:e.name)\n",
    "print(sorted_emp)"
   ]
  },
  {
   "cell_type": "code",
   "execution_count": 20,
   "id": "6d647bcf",
   "metadata": {},
   "outputs": [
    {
     "name": "stdout",
     "output_type": "stream",
     "text": [
      "[(Aman,24,Rs.10L), (Ananay,21,Rs.14L), (Shivang,22,Rs.28L)]\n"
     ]
    }
   ],
   "source": [
    "from operator import attrgetter\n",
    "\n",
    "sorted_emp = sorted(employees, key=attrgetter('name'))\n",
    "print(sorted_emp)"
   ]
  },
  {
   "cell_type": "code",
   "execution_count": null,
   "id": "3b8290f4",
   "metadata": {},
   "outputs": [],
   "source": []
  },
  {
   "cell_type": "code",
   "execution_count": null,
   "id": "7103ddad",
   "metadata": {},
   "outputs": [],
   "source": []
  },
  {
   "cell_type": "code",
   "execution_count": 21,
   "id": "8fadf397",
   "metadata": {},
   "outputs": [],
   "source": [
    "# string formatting"
   ]
  },
  {
   "cell_type": "code",
   "execution_count": null,
   "id": "5ef7db6d",
   "metadata": {},
   "outputs": [],
   "source": []
  }
 ],
 "metadata": {
  "kernelspec": {
   "display_name": "Python 3 (ipykernel)",
   "language": "python",
   "name": "python3"
  },
  "language_info": {
   "codemirror_mode": {
    "name": "ipython",
    "version": 3
   },
   "file_extension": ".py",
   "mimetype": "text/x-python",
   "name": "python",
   "nbconvert_exporter": "python",
   "pygments_lexer": "ipython3",
   "version": "3.9.6"
  }
 },
 "nbformat": 4,
 "nbformat_minor": 5
}
