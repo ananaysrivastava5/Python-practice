{
 "cells": [
  {
   "cell_type": "code",
   "execution_count": 1,
   "id": "6e78b526",
   "metadata": {},
   "outputs": [],
   "source": [
    "# Functions"
   ]
  },
  {
   "cell_type": "code",
   "execution_count": 3,
   "id": "6c3c7c85",
   "metadata": {},
   "outputs": [
    {
     "name": "stdout",
     "output_type": "stream",
     "text": [
      "Hello function\n",
      "HELLO FUNCTION\n"
     ]
    }
   ],
   "source": [
    "def hello_func():\n",
    "    return 'Hello function'\n",
    "\n",
    "print(hello_func())\n",
    "print(hello_func().upper())"
   ]
  },
  {
   "cell_type": "code",
   "execution_count": 4,
   "id": "d093db8d",
   "metadata": {},
   "outputs": [
    {
     "name": "stdout",
     "output_type": "stream",
     "text": [
      "Hello function\n"
     ]
    }
   ],
   "source": [
    "def hello_func(greeting):\n",
    "    return '{} function'.format(greeting)\n",
    "\n",
    "print(hello_func('Hello'))"
   ]
  },
  {
   "cell_type": "code",
   "execution_count": 8,
   "id": "1a6b23f1",
   "metadata": {},
   "outputs": [
    {
     "name": "stdout",
     "output_type": "stream",
     "text": [
      "Hello sir/madam\n",
      "Hello Anam\n"
     ]
    }
   ],
   "source": [
    "def hello_func(greeting, name='sir/madam'):\n",
    "    return '{} {}'.format(greeting,name)\n",
    "\n",
    "print(hello_func('Hello'))\n",
    "print(hello_func('Hello','Anam'))"
   ]
  },
  {
   "cell_type": "markdown",
   "id": "35f490f4",
   "metadata": {},
   "source": [
    "IMP- types of function arguments in python: https://www.educative.io/edpresso/what-are-keyword-arguments-in-python"
   ]
  },
  {
   "cell_type": "code",
   "execution_count": 14,
   "id": "250f846c",
   "metadata": {},
   "outputs": [
    {
     "name": "stdout",
     "output_type": "stream",
     "text": [
      "Args: ()\n",
      "Kwargs: {}\n"
     ]
    }
   ],
   "source": [
    "def student_info(*args, **kwargs):\n",
    "    print('Args:', args)\n",
    "    print('Kwargs:', kwargs)\n",
    "\n",
    "student_info()   "
   ]
  },
  {
   "cell_type": "code",
   "execution_count": 15,
   "id": "a3c35935",
   "metadata": {},
   "outputs": [
    {
     "name": "stdout",
     "output_type": "stream",
     "text": [
      "Args: ('Anam', 'Aman')\n",
      "Kwargs: {'club': 'FCBarcelona', 'trophy': 'UCL'}\n"
     ]
    }
   ],
   "source": [
    "student_info('Anam','Aman',club='FCBarcelona', trophy='UCL')"
   ]
  },
  {
   "cell_type": "code",
   "execution_count": 17,
   "id": "18df27b7",
   "metadata": {},
   "outputs": [
    {
     "name": "stdout",
     "output_type": "stream",
     "text": [
      "Args: (['DSA', 'DBMS'], {'name': 'Anam', 'age': '21'})\n",
      "Kwargs: {}\n"
     ]
    }
   ],
   "source": [
    "courses = ['DSA','DBMS']\n",
    "info = {'name': 'Anam', 'age': '21'}\n",
    "student_info(courses, info)"
   ]
  },
  {
   "cell_type": "code",
   "execution_count": 20,
   "id": "e3344419",
   "metadata": {},
   "outputs": [
    {
     "name": "stdout",
     "output_type": "stream",
     "text": [
      "Args: ('DSA', 'DBMS')\n",
      "Kwargs: {'name': 'Anam', 'age': '21'}\n"
     ]
    }
   ],
   "source": [
    "courses = ['DSA','DBMS']\n",
    "info = {'name': 'Anam', 'age': '21'}\n",
    "student_info(*courses, **info)"
   ]
  },
  {
   "cell_type": "code",
   "execution_count": null,
   "id": "b43d8b69",
   "metadata": {},
   "outputs": [],
   "source": []
  },
  {
   "cell_type": "code",
   "execution_count": 21,
   "id": "ea765680",
   "metadata": {},
   "outputs": [],
   "source": [
    "# Variable scope"
   ]
  },
  {
   "cell_type": "code",
   "execution_count": 25,
   "id": "cabbbc09",
   "metadata": {},
   "outputs": [
    {
     "name": "stdout",
     "output_type": "stream",
     "text": [
      "Inside the function: local x\n",
      "Outside the function: global x\n"
     ]
    }
   ],
   "source": [
    "x = 'global x'\n",
    "\n",
    "def test():\n",
    "    x = 'local x'\n",
    "    print('Inside the function:',x)\n",
    "    \n",
    "test()    \n",
    "print('Outside the function:',x)"
   ]
  },
  {
   "cell_type": "code",
   "execution_count": 26,
   "id": "16ea993d",
   "metadata": {},
   "outputs": [
    {
     "name": "stdout",
     "output_type": "stream",
     "text": [
      "Inside the function: local x\n",
      "Outside the function: local x\n"
     ]
    }
   ],
   "source": [
    "x = 'global x'\n",
    "\n",
    "def test():\n",
    "    global x\n",
    "    x = 'local x'\n",
    "    print('Inside the function:',x)\n",
    "    \n",
    "test()    \n",
    "print('Outside the function:',x)"
   ]
  },
  {
   "cell_type": "code",
   "execution_count": 28,
   "id": "86b9314f",
   "metadata": {},
   "outputs": [
    {
     "name": "stdout",
     "output_type": "stream",
     "text": [
      "Inside the function: local x\n",
      "Outside the function: local x\n"
     ]
    }
   ],
   "source": [
    "def test():\n",
    "    global x\n",
    "    x = 'local x'\n",
    "    print('Inside the function:',x)\n",
    "    \n",
    "test()    \n",
    "print('Outside the function:',x)"
   ]
  },
  {
   "cell_type": "code",
   "execution_count": 30,
   "id": "7784f40c",
   "metadata": {},
   "outputs": [
    {
     "name": "stdout",
     "output_type": "stream",
     "text": [
      "Inside the function: local y\n"
     ]
    },
    {
     "ename": "NameError",
     "evalue": "name 'y' is not defined",
     "output_type": "error",
     "traceback": [
      "\u001b[1;31m---------------------------------------------------------------------------\u001b[0m",
      "\u001b[1;31mNameError\u001b[0m                                 Traceback (most recent call last)",
      "\u001b[1;32m~\\AppData\\Local\\Temp/ipykernel_4736/4199550933.py\u001b[0m in \u001b[0;36m<module>\u001b[1;34m\u001b[0m\n\u001b[0;32m      4\u001b[0m \u001b[1;33m\u001b[0m\u001b[0m\n\u001b[0;32m      5\u001b[0m \u001b[0mtest\u001b[0m\u001b[1;33m(\u001b[0m\u001b[1;33m)\u001b[0m\u001b[1;33m\u001b[0m\u001b[1;33m\u001b[0m\u001b[0m\n\u001b[1;32m----> 6\u001b[1;33m \u001b[0mprint\u001b[0m\u001b[1;33m(\u001b[0m\u001b[1;34m'Outside the function:'\u001b[0m\u001b[1;33m,\u001b[0m\u001b[0my\u001b[0m\u001b[1;33m)\u001b[0m\u001b[1;33m\u001b[0m\u001b[1;33m\u001b[0m\u001b[0m\n\u001b[0m",
      "\u001b[1;31mNameError\u001b[0m: name 'y' is not defined"
     ]
    }
   ],
   "source": [
    "def test():\n",
    "    y = 'local y'\n",
    "    print('Inside the function:',y)\n",
    "    \n",
    "test()    \n",
    "print('Outside the function:',y)"
   ]
  },
  {
   "cell_type": "code",
   "execution_count": 31,
   "id": "1a29ac53",
   "metadata": {},
   "outputs": [
    {
     "name": "stdout",
     "output_type": "stream",
     "text": [
      "inner x\n",
      "local x\n"
     ]
    }
   ],
   "source": [
    "# Nested Functions\n",
    "\n",
    "def outer():\n",
    "    x = 'local x'\n",
    "    def inner():\n",
    "        x = 'inner x'\n",
    "        print(x)\n",
    "    inner()\n",
    "    print(x)\n",
    "    \n",
    "outer()        "
   ]
  },
  {
   "cell_type": "code",
   "execution_count": 32,
   "id": "133087cb",
   "metadata": {},
   "outputs": [
    {
     "name": "stdout",
     "output_type": "stream",
     "text": [
      "local x\n",
      "local x\n"
     ]
    }
   ],
   "source": [
    "def outer():\n",
    "    x = 'local x'\n",
    "    def inner():\n",
    "        print(x)\n",
    "    inner()\n",
    "    print(x)\n",
    "    \n",
    "outer()    "
   ]
  },
  {
   "cell_type": "code",
   "execution_count": 33,
   "id": "dd19d387",
   "metadata": {},
   "outputs": [
    {
     "name": "stdout",
     "output_type": "stream",
     "text": [
      "inner x\n",
      "inner x\n"
     ]
    }
   ],
   "source": [
    "# nonlocal scope\n",
    "\n",
    "def outer():\n",
    "    x = 'local x'\n",
    "    def inner():\n",
    "        nonlocal x\n",
    "        x = 'inner x'\n",
    "        print(x)\n",
    "    inner()\n",
    "    print(x)\n",
    "    \n",
    "outer()    "
   ]
  },
  {
   "cell_type": "code",
   "execution_count": null,
   "id": "8377bfd5",
   "metadata": {},
   "outputs": [],
   "source": []
  },
  {
   "cell_type": "code",
   "execution_count": 34,
   "id": "7c75b9ec",
   "metadata": {},
   "outputs": [],
   "source": [
    "# Slicing in lists and strings"
   ]
  },
  {
   "cell_type": "code",
   "execution_count": 35,
   "id": "84af34da",
   "metadata": {},
   "outputs": [],
   "source": [
    "arr = [0, 1, 2, 3, 4, 5, 6, 7, 8, 9]\n",
    "#      0, 1, 2, 3, 4, 5, 6, 7, 8, 9\n",
    "#    -10,-9,-8,-7,-6,-5,-4,-3,-2,-1                   "
   ]
  },
  {
   "cell_type": "code",
   "execution_count": 39,
   "id": "daba2a35",
   "metadata": {},
   "outputs": [
    {
     "name": "stdout",
     "output_type": "stream",
     "text": [
      "0\n",
      "5\n",
      "[0, 1, 2, 3, 4]\n"
     ]
    }
   ],
   "source": [
    "print(arr[0])\n",
    "print(arr[5])\n",
    "print(arr[0:5])"
   ]
  },
  {
   "cell_type": "code",
   "execution_count": 40,
   "id": "2c784781",
   "metadata": {},
   "outputs": [
    {
     "name": "stdout",
     "output_type": "stream",
     "text": [
      "9\n"
     ]
    }
   ],
   "source": [
    "print(arr[-1])"
   ]
  },
  {
   "cell_type": "code",
   "execution_count": 41,
   "id": "9b7082aa",
   "metadata": {},
   "outputs": [
    {
     "name": "stdout",
     "output_type": "stream",
     "text": [
      "[1, 2, 3, 4, 5, 6, 7, 8]\n"
     ]
    }
   ],
   "source": [
    "print(arr[1:-1])"
   ]
  },
  {
   "cell_type": "code",
   "execution_count": 42,
   "id": "50f15b3d",
   "metadata": {},
   "outputs": [
    {
     "name": "stdout",
     "output_type": "stream",
     "text": [
      "[6, 7]\n"
     ]
    }
   ],
   "source": [
    "print(arr[6:-2])"
   ]
  },
  {
   "cell_type": "code",
   "execution_count": 44,
   "id": "1e22ab48",
   "metadata": {},
   "outputs": [
    {
     "name": "stdout",
     "output_type": "stream",
     "text": [
      "[]\n"
     ]
    }
   ],
   "source": [
    "print(arr[7:-5])"
   ]
  },
  {
   "cell_type": "code",
   "execution_count": 45,
   "id": "cfc23229",
   "metadata": {},
   "outputs": [
    {
     "name": "stdout",
     "output_type": "stream",
     "text": [
      "[5, 6, 7, 8]\n"
     ]
    }
   ],
   "source": [
    "print(arr[-5:-1])"
   ]
  },
  {
   "cell_type": "code",
   "execution_count": 46,
   "id": "dd33dba2",
   "metadata": {},
   "outputs": [
    {
     "name": "stdout",
     "output_type": "stream",
     "text": [
      "[6, 7, 8, 9]\n"
     ]
    }
   ],
   "source": [
    "print(arr[-4:])"
   ]
  },
  {
   "cell_type": "code",
   "execution_count": 47,
   "id": "c9ba3898",
   "metadata": {},
   "outputs": [
    {
     "name": "stdout",
     "output_type": "stream",
     "text": [
      "[2, 4, 6, 8]\n"
     ]
    }
   ],
   "source": [
    "print(arr[2:9:2])"
   ]
  },
  {
   "cell_type": "code",
   "execution_count": 48,
   "id": "aaef2ad9",
   "metadata": {},
   "outputs": [
    {
     "name": "stdout",
     "output_type": "stream",
     "text": [
      "[2, 4, 6]\n"
     ]
    }
   ],
   "source": [
    "print(arr[2:8:2])"
   ]
  },
  {
   "cell_type": "code",
   "execution_count": 49,
   "id": "d728e857",
   "metadata": {},
   "outputs": [
    {
     "name": "stdout",
     "output_type": "stream",
     "text": [
      "[1, 4, 7]\n"
     ]
    }
   ],
   "source": [
    "print(arr[1:10:3])"
   ]
  },
  {
   "cell_type": "code",
   "execution_count": 50,
   "id": "3fc9bfa4",
   "metadata": {},
   "outputs": [
    {
     "name": "stdout",
     "output_type": "stream",
     "text": [
      "[9, 7, 5]\n"
     ]
    }
   ],
   "source": [
    "print(arr[10:4:-2])"
   ]
  },
  {
   "cell_type": "code",
   "execution_count": 51,
   "id": "7dfb5b2f",
   "metadata": {},
   "outputs": [
    {
     "name": "stdout",
     "output_type": "stream",
     "text": [
      "[9, 8, 7, 6, 5, 4, 3, 2, 1, 0]\n"
     ]
    }
   ],
   "source": [
    "print(arr[::-1])"
   ]
  },
  {
   "cell_type": "code",
   "execution_count": 52,
   "id": "e740e30d",
   "metadata": {},
   "outputs": [
    {
     "name": "stdout",
     "output_type": "stream",
     "text": [
      "[]\n"
     ]
    }
   ],
   "source": [
    "print(arr[1:8:-1])"
   ]
  },
  {
   "cell_type": "code",
   "execution_count": null,
   "id": "8ef51e86",
   "metadata": {},
   "outputs": [],
   "source": []
  },
  {
   "cell_type": "code",
   "execution_count": null,
   "id": "05d7c453",
   "metadata": {},
   "outputs": [],
   "source": []
  },
  {
   "cell_type": "code",
   "execution_count": 53,
   "id": "e2209a5d",
   "metadata": {},
   "outputs": [],
   "source": [
    "# Comprehensions"
   ]
  },
  {
   "cell_type": "code",
   "execution_count": 54,
   "id": "2d6f749c",
   "metadata": {},
   "outputs": [
    {
     "name": "stdout",
     "output_type": "stream",
     "text": [
      "[1, 2, 3, 4, 5, 6, 7]\n"
     ]
    }
   ],
   "source": [
    "nums = [1,2,3,4,5,6,7]\n",
    "\n",
    "arr = [n for n in nums]\n",
    "print(arr)"
   ]
  },
  {
   "cell_type": "code",
   "execution_count": 55,
   "id": "7dd3a7a5",
   "metadata": {},
   "outputs": [
    {
     "name": "stdout",
     "output_type": "stream",
     "text": [
      "[1, 4, 9, 16, 25, 36, 49]\n"
     ]
    }
   ],
   "source": [
    "arr = [n*n for n in nums]\n",
    "print(arr)"
   ]
  },
  {
   "cell_type": "code",
   "execution_count": 57,
   "id": "47fae60d",
   "metadata": {},
   "outputs": [
    {
     "name": "stdout",
     "output_type": "stream",
     "text": [
      "[1, 4, 9, 16, 36, 49]\n"
     ]
    }
   ],
   "source": [
    "arr = [n*n for n in nums if n!=5]\n",
    "print(arr)"
   ]
  },
  {
   "cell_type": "code",
   "execution_count": 60,
   "id": "d14723c3",
   "metadata": {},
   "outputs": [
    {
     "name": "stdout",
     "output_type": "stream",
     "text": [
      "[('a', 0), ('a', 1), ('a', 2), ('a', 3), ('b', 0), ('b', 1), ('b', 2), ('b', 3), ('c', 0), ('c', 1), ('c', 2), ('c', 3), ('d', 0), ('d', 1), ('d', 2), ('d', 3)]\n"
     ]
    }
   ],
   "source": [
    "arr = []\n",
    "for letter in 'abcd':\n",
    "    for n in range(4):\n",
    "        arr.append((letter,n))\n",
    "\n",
    "print(arr)        "
   ]
  },
  {
   "cell_type": "code",
   "execution_count": 61,
   "id": "9309a0fc",
   "metadata": {},
   "outputs": [
    {
     "name": "stdout",
     "output_type": "stream",
     "text": [
      "[('a', 0), ('a', 1), ('a', 2), ('a', 3), ('b', 0), ('b', 1), ('b', 2), ('b', 3), ('c', 0), ('c', 1), ('c', 2), ('c', 3), ('d', 0), ('d', 1), ('d', 2), ('d', 3)]\n"
     ]
    }
   ],
   "source": [
    "arr = [(letter,n) for letter in 'abcd' for n in range(4)]\n",
    "print(arr)"
   ]
  },
  {
   "cell_type": "code",
   "execution_count": 63,
   "id": "8f7af250",
   "metadata": {},
   "outputs": [],
   "source": [
    "heros = ['Batman', 'Spiderman', 'Iron Man', 'Superman', 'Deadpool'] \n",
    "names = ['Bruce', 'Peter', 'Tony', 'Clark', 'Wade']"
   ]
  },
  {
   "cell_type": "code",
   "execution_count": 71,
   "id": "e49926aa",
   "metadata": {},
   "outputs": [
    {
     "ename": "SyntaxError",
     "evalue": "invalid syntax (Temp/ipykernel_4736/3078812718.py, line 2)",
     "output_type": "error",
     "traceback": [
      "\u001b[1;36m  File \u001b[1;32m\"C:\\Users\\anana\\AppData\\Local\\Temp/ipykernel_4736/3078812718.py\"\u001b[1;36m, line \u001b[1;32m2\u001b[0m\n\u001b[1;33m    arr [hero,name for (hero,name) in zip(heros,names)]\u001b[0m\n\u001b[1;37m                   ^\u001b[0m\n\u001b[1;31mSyntaxError\u001b[0m\u001b[1;31m:\u001b[0m invalid syntax\n"
     ]
    }
   ],
   "source": [
    "arr = []\n",
    "arr [(hero,name) for (hero,name) in zip(heros,names)]\n",
    "print(arr)"
   ]
  },
  {
   "cell_type": "code",
   "execution_count": 70,
   "id": "be4cbcbb",
   "metadata": {},
   "outputs": [
    {
     "name": "stdout",
     "output_type": "stream",
     "text": [
      "[('Batman', 'Bruce'), ('Spiderman', 'Peter'), ('Iron Man', 'Tony'), ('Superman', 'Clark'), ('Deadpool', 'Wade')]\n"
     ]
    }
   ],
   "source": [
    "arr = []\n",
    "for hero,name in zip(heros,names):\n",
    "    arr.append((hero,name))\n",
    "    \n",
    "print(arr)    "
   ]
  },
  {
   "cell_type": "code",
   "execution_count": 72,
   "id": "29152174",
   "metadata": {},
   "outputs": [
    {
     "name": "stdout",
     "output_type": "stream",
     "text": [
      "{1, 2, 3, 4, 5, 6}\n"
     ]
    }
   ],
   "source": [
    "nums = [1,1,1,2,2,3,3,3,3,4,4,5,6,6,6]\n",
    "\n",
    "my_set = set()\n",
    "for n in nums:\n",
    "    my_set.add(n)\n",
    "    \n",
    "print(my_set)    "
   ]
  },
  {
   "cell_type": "code",
   "execution_count": 73,
   "id": "d2d518a9",
   "metadata": {},
   "outputs": [
    {
     "name": "stdout",
     "output_type": "stream",
     "text": [
      "{1, 2, 3, 4, 5, 6}\n"
     ]
    }
   ],
   "source": [
    "my_set = {n for n in nums}\n",
    "print(my_set)"
   ]
  },
  {
   "cell_type": "code",
   "execution_count": null,
   "id": "93361a8f",
   "metadata": {},
   "outputs": [],
   "source": []
  }
 ],
 "metadata": {
  "kernelspec": {
   "display_name": "Python 3 (ipykernel)",
   "language": "python",
   "name": "python3"
  },
  "language_info": {
   "codemirror_mode": {
    "name": "ipython",
    "version": 3
   },
   "file_extension": ".py",
   "mimetype": "text/x-python",
   "name": "python",
   "nbconvert_exporter": "python",
   "pygments_lexer": "ipython3",
   "version": "3.9.6"
  }
 },
 "nbformat": 4,
 "nbformat_minor": 5
}
