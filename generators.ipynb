{
 "cells": [
  {
   "cell_type": "code",
   "execution_count": 1,
   "id": "58427306",
   "metadata": {},
   "outputs": [
    {
     "name": "stdout",
     "output_type": "stream",
     "text": [
      "[1, 4, 9, 16, 25]\n"
     ]
    }
   ],
   "source": [
    "def square_numbers(nums):\n",
    "    result = []\n",
    "    for i in nums:\n",
    "        result.append(i*i)\n",
    "    return result\n",
    "\n",
    "nums = [1,2,3,4,5]\n",
    "result_nums = square_numbers(nums)\n",
    "print(result_nums)"
   ]
  },
  {
   "cell_type": "code",
   "execution_count": 2,
   "id": "ac902e20",
   "metadata": {},
   "outputs": [
    {
     "name": "stdout",
     "output_type": "stream",
     "text": [
      "<generator object square_numbers at 0x00000182A70F2120>\n"
     ]
    }
   ],
   "source": [
    "# using generators\n",
    "def square_numbers(nums):\n",
    "    for i in nums:\n",
    "        yield(i*i)\n",
    "\n",
    "nums = [1,2,3,4,5]\n",
    "result_nums = square_numbers(nums)\n",
    "print(result_nums)"
   ]
  },
  {
   "cell_type": "code",
   "execution_count": 5,
   "id": "2ce3c94b",
   "metadata": {},
   "outputs": [
    {
     "name": "stdout",
     "output_type": "stream",
     "text": [
      "1\n",
      "4\n",
      "9\n",
      "16\n",
      "25\n"
     ]
    }
   ],
   "source": [
    "# using generators\n",
    "def square_numbers(nums):\n",
    "    for i in nums:\n",
    "        yield(i*i)\n",
    "\n",
    "nums = [1,2,3,4,5]\n",
    "result_nums = square_numbers(nums)\n",
    "for i in result_nums:\n",
    "    print(i)"
   ]
  },
  {
   "cell_type": "code",
   "execution_count": 6,
   "id": "048df833",
   "metadata": {},
   "outputs": [
    {
     "name": "stdout",
     "output_type": "stream",
     "text": [
      "[1, 4, 9, 16, 25]\n"
     ]
    }
   ],
   "source": [
    "result_nums = [i*i for i in [1,2,3,4,5]]\n",
    "print(result_nums)"
   ]
  },
  {
   "cell_type": "code",
   "execution_count": 7,
   "id": "926affcc",
   "metadata": {},
   "outputs": [
    {
     "name": "stdout",
     "output_type": "stream",
     "text": [
      "<generator object <genexpr> at 0x00000182A717BE40>\n"
     ]
    }
   ],
   "source": [
    "# using generators\n",
    "result_nums = (i*i for i in [1,2,3,4,5])\n",
    "print(result_nums)"
   ]
  },
  {
   "cell_type": "code",
   "execution_count": 8,
   "id": "46ccec75",
   "metadata": {},
   "outputs": [
    {
     "name": "stdout",
     "output_type": "stream",
     "text": [
      "1\n",
      "4\n",
      "9\n",
      "16\n",
      "25\n"
     ]
    }
   ],
   "source": [
    "# using generators\n",
    "result_nums = (i*i for i in [1,2,3,4,5])\n",
    "for i in result_nums:\n",
    "    print(i)"
   ]
  }
 ],
 "metadata": {
  "kernelspec": {
   "display_name": "Python 3 (ipykernel)",
   "language": "python",
   "name": "python3"
  },
  "language_info": {
   "codemirror_mode": {
    "name": "ipython",
    "version": 3
   },
   "file_extension": ".py",
   "mimetype": "text/x-python",
   "name": "python",
   "nbconvert_exporter": "python",
   "pygments_lexer": "ipython3",
   "version": "3.9.6"
  }
 },
 "nbformat": 4,
 "nbformat_minor": 5
}
